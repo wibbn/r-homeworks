{
 "cells": [
  {
   "cell_type": "markdown",
   "metadata": {},
   "source": [
    "# Самостоятельная работа №5"
   ]
  },
  {
   "cell_type": "markdown",
   "metadata": {},
   "source": [
    "## Метод правых прямоугольников"
   ]
  },
  {
   "cell_type": "code",
   "execution_count": 1,
   "metadata": {},
   "outputs": [],
   "source": [
    "rightSquares = function(f, a, b, n=10000) {\n",
    "    stopifnot(is.function(f))\n",
    "    stopifnot(is.numeric(a))\n",
    "    stopifnot(is.numeric(b))\n",
    "    stopifnot(is.numeric(n) & n %% 1 == 0 & n > 0)\n",
    "    stopifnot(a <= b)\n",
    "    \n",
    "    h <- (b - a) / n\n",
    "    \n",
    "    return (sum(sapply(c(0:(n - 1)), function(i) { f(a + h*i) } )) * h)\n",
    "}"
   ]
  },
  {
   "cell_type": "code",
   "execution_count": 2,
   "metadata": {},
   "outputs": [
    {
     "data": {
      "text/html": "2.333183335",
      "text/latex": "2.333183335",
      "text/markdown": "2.333183335",
      "text/plain": "[1] 2.333183"
     },
     "metadata": {},
     "output_type": "display_data"
    }
   ],
   "source": [
    "rightSquares(function(x) x^2, 1, 2)"
   ]
  },
  {
   "cell_type": "markdown",
   "metadata": {},
   "source": [
    "## Метод центральных прямоцгольников"
   ]
  },
  {
   "cell_type": "code",
   "execution_count": 3,
   "metadata": {},
   "outputs": [],
   "source": [
    "centerSquares <- function(f, a, b, n=10000) {\n",
    "    stopifnot(is.function(f))\n",
    "    stopifnot(is.numeric(a))\n",
    "    stopifnot(is.numeric(b))\n",
    "    stopifnot(is.numeric(n) & n %% 1 == 0 & n > 0)\n",
    "    stopifnot(a <= b)\n",
    "    \n",
    "    h <- (b - a) / n\n",
    "    half_h <- h / 2\n",
    "    \n",
    "    return (sum(sapply(c(0:(n - 1)), function(i) { f(a + h*i + half_h) } )) * h)\n",
    "}"
   ]
  },
  {
   "cell_type": "code",
   "execution_count": 4,
   "metadata": {},
   "outputs": [
    {
     "data": {
      "text/html": "2.3333333325",
      "text/latex": "2.3333333325",
      "text/markdown": "2.3333333325",
      "text/plain": "[1] 2.333333"
     },
     "metadata": {},
     "output_type": "display_data"
    }
   ],
   "source": [
    "centerSquares(function(x) x^2, 1, 2)"
   ]
  },
  {
   "cell_type": "markdown",
   "metadata": {},
   "source": [
    "## Метод трапеций"
   ]
  },
  {
   "cell_type": "code",
   "execution_count": 5,
   "metadata": {},
   "outputs": [],
   "source": [
    "trapezoids <- function(f, a, b, n=10000) {\n",
    "    stopifnot(is.function(f))\n",
    "    stopifnot(is.numeric(a))\n",
    "    stopifnot(is.numeric(b))\n",
    "    stopifnot(is.numeric(n) & n %% 1 == 0 & n > 0)\n",
    "    stopifnot(a <= b)\n",
    "    \n",
    "    h <- (b - a) / n\n",
    "    \n",
    "    return (sum(sapply(c(0:(n - 1)), function(i) { f(a + h*i) + f(a + h*(i + 1)) } )) * h / 2)\n",
    "}"
   ]
  },
  {
   "cell_type": "code",
   "execution_count": 6,
   "metadata": {},
   "outputs": [
    {
     "data": {
      "text/html": "2.333333335",
      "text/latex": "2.333333335",
      "text/markdown": "2.333333335",
      "text/plain": "[1] 2.333333"
     },
     "metadata": {},
     "output_type": "display_data"
    }
   ],
   "source": [
    "trapezoids(function(x) x^2, 1, 2)"
   ]
  },
  {
   "cell_type": "markdown",
   "metadata": {},
   "source": [
    "## Метод симпсона"
   ]
  },
  {
   "cell_type": "code",
   "execution_count": 7,
   "metadata": {},
   "outputs": [],
   "source": [
    "simpsons <- function(f, a, b, n=10000) {\n",
    "    stopifnot(is.function(f))\n",
    "    stopifnot(is.numeric(a))\n",
    "    stopifnot(is.numeric(b))\n",
    "    stopifnot(is.numeric(n) & n %% 1 == 0 & n > 0)\n",
    "    stopifnot(a <= b)\n",
    "    \n",
    "    h <- (b - a) / (2 * n)\n",
    "    \n",
    "    return (\n",
    "        (\n",
    "            f(a) + \n",
    "            f(b) + \n",
    "            4 * sum(sapply(c(0:(n - 1)), function(i) { f(a + h*(2*i - 1)) } )) + \n",
    "            2 * sum(sapply(c(0:(n - 1)), function(i) { f(a + h*2*i) } ))\n",
    "        ) * h / 3\n",
    "    )\n",
    "}"
   ]
  },
  {
   "cell_type": "code",
   "execution_count": 8,
   "metadata": {},
   "outputs": [
    {
     "data": {
      "text/html": "2.33316667333333",
      "text/latex": "2.33316667333333",
      "text/markdown": "2.33316667333333",
      "text/plain": "[1] 2.333167"
     },
     "metadata": {},
     "output_type": "display_data"
    }
   ],
   "source": [
    "simpsons(function(x) x^2, 1, 2)"
   ]
  },
  {
   "cell_type": "markdown",
   "metadata": {},
   "source": [
    "## Через цикл"
   ]
  },
  {
   "cell_type": "markdown",
   "metadata": {},
   "source": [
    "## Метод правых прямоугольников"
   ]
  },
  {
   "cell_type": "code",
   "execution_count": 10,
   "metadata": {},
   "outputs": [],
   "source": [
    "rightSquaresLoop <- function(f, a, b, n=10000) {\n",
    "    stopifnot(is.function(f))\n",
    "    stopifnot(is.numeric(a))\n",
    "    stopifnot(is.numeric(b))\n",
    "    stopifnot(is.numeric(n) & n %% 1 == 0 & n > 0)\n",
    "    stopifnot(a <= b)\n",
    "    \n",
    "    h <- (b - a) / n\n",
    "    \n",
    "    result <- 0\n",
    "    for (i in 0:(n - 1)) {\n",
    "        result <- result + f(a + h*i)\n",
    "    }\n",
    "    result <- result * h\n",
    "    return (result)\n",
    "}"
   ]
  },
  {
   "cell_type": "code",
   "execution_count": 11,
   "metadata": {},
   "outputs": [
    {
     "data": {
      "text/plain": "   user  system elapsed \n  0.932   0.008   0.941 "
     },
     "metadata": {},
     "output_type": "display_data"
    },
    {
     "data": {
      "text/plain": "   user  system elapsed \n   1.79    0.00    1.79 "
     },
     "metadata": {},
     "output_type": "display_data"
    }
   ],
   "source": [
    "system.time( for (i in 1:100) rightSquaresLoop(function(x) x^2, i, i + 1) )\n",
    "\n",
    "system.time( for (i in 1:100) rightSquares(function(x) x^2, i, i + 1) )"
   ]
  },
  {
   "cell_type": "markdown",
   "metadata": {},
   "source": [
    "## Метод центральных прямоугольников"
   ]
  },
  {
   "cell_type": "code",
   "execution_count": 12,
   "metadata": {},
   "outputs": [],
   "source": [
    "centerSquaresLoop <- function(f, a, b, n=10000) {\n",
    "    stopifnot(is.function(f))\n",
    "    stopifnot(is.numeric(a))\n",
    "    stopifnot(is.numeric(b))\n",
    "    stopifnot(is.numeric(n) & n %% 1 == 0 & n > 0)\n",
    "    stopifnot(a <= b)\n",
    "    \n",
    "    h <- (b - a) / n\n",
    "    half_h <- h / 2\n",
    "    \n",
    "    result <- 0\n",
    "    for (i in 0:(n - 1)) {\n",
    "        result <- result + f(a + h*i + half_h)\n",
    "    }\n",
    "    result <- result * h\n",
    "    \n",
    "    return (result)\n",
    "}"
   ]
  },
  {
   "cell_type": "code",
   "execution_count": 13,
   "metadata": {},
   "outputs": [
    {
     "data": {
      "text/plain": "   user  system elapsed \n  0.807   0.010   0.817 "
     },
     "metadata": {},
     "output_type": "display_data"
    },
    {
     "data": {
      "text/plain": "   user  system elapsed \n  2.154   0.009   2.164 "
     },
     "metadata": {},
     "output_type": "display_data"
    }
   ],
   "source": [
    "system.time( for (i in 1:100) centerSquaresLoop(function(x) x^2, i, i + 1) )\n",
    "\n",
    "system.time( for (i in 1:100) centerSquares(function(x) x^2, i, i + 1) )"
   ]
  },
  {
   "cell_type": "markdown",
   "metadata": {},
   "source": [
    "## Метод трапеций"
   ]
  },
  {
   "cell_type": "code",
   "execution_count": 14,
   "metadata": {},
   "outputs": [],
   "source": [
    "trapezoidsLoop <- function(f, a, b, n=10000) {\n",
    "    stopifnot(is.function(f))\n",
    "    stopifnot(is.numeric(a))\n",
    "    stopifnot(is.numeric(b))\n",
    "    stopifnot(is.numeric(n) & n %% 1 == 0 & n > 0)\n",
    "    stopifnot(a <= b)\n",
    "    \n",
    "    h <- (b - a) / n\n",
    "    \n",
    "    result <- 0\n",
    "    for (i in 0:(n - 1)) {\n",
    "        result <- result + f(a + h*i) + f(a + h*(i + 1))\n",
    "    }\n",
    "    result <- result * h / 2\n",
    "    \n",
    "    return (result)\n",
    "}"
   ]
  },
  {
   "cell_type": "code",
   "execution_count": 15,
   "metadata": {},
   "outputs": [
    {
     "data": {
      "text/plain": "   user  system elapsed \n  2.301   0.010   2.311 "
     },
     "metadata": {},
     "output_type": "display_data"
    },
    {
     "data": {
      "text/plain": "   user  system elapsed \n  5.104   0.030   5.134 "
     },
     "metadata": {},
     "output_type": "display_data"
    }
   ],
   "source": [
    "system.time( for (i in 1:100) trapezoidsLoop(function(x) x^2, i, i + 1) )\n",
    "\n",
    "system.time( for (i in 1:100) trapezoids(function(x) x^2, i, i + 1) )"
   ]
  },
  {
   "cell_type": "markdown",
   "metadata": {},
   "source": [
    "## Метод Симпсона"
   ]
  },
  {
   "cell_type": "code",
   "execution_count": 16,
   "metadata": {},
   "outputs": [],
   "source": [
    "simpsonsLoop <- function(f, a, b, n=10000) {\n",
    "    stopifnot(is.function(f))\n",
    "    stopifnot(is.numeric(a))\n",
    "    stopifnot(is.numeric(b))\n",
    "    stopifnot(is.numeric(n) & n %% 1 == 0 & n > 0)\n",
    "    stopifnot(a <= b)\n",
    "    \n",
    "    h <- (b - a) / (2 * n)\n",
    "    \n",
    "    result <- f(a) + f(b)\n",
    "    for (i in 0:(n - 1)) {\n",
    "        result <- result + 4*f(a + h*(2*i - 1)) + 2*f(a + h*2*i)\n",
    "    }\n",
    "    result <- result * h / 3\n",
    "    \n",
    "    return (result)\n",
    "}"
   ]
  },
  {
   "cell_type": "code",
   "execution_count": 17,
   "metadata": {},
   "outputs": [
    {
     "data": {
      "text/plain": "   user  system elapsed \n  1.557   0.010   1.572 "
     },
     "metadata": {},
     "output_type": "display_data"
    },
    {
     "data": {
      "text/plain": "   user  system elapsed \n  4.454   0.031   4.489 "
     },
     "metadata": {},
     "output_type": "display_data"
    }
   ],
   "source": [
    "system.time( for (i in 1:100) simpsonsLoop(function(x) x^2, i, i + 1) )\n",
    "\n",
    "system.time( for (i in 1:100) simpsons(function(x) x^2, i, i + 1) )"
   ]
  },
  {
   "cell_type": "markdown",
   "metadata": {},
   "source": [
    "# Численное интегрирование"
   ]
  },
  {
   "cell_type": "code",
   "execution_count": 18,
   "metadata": {},
   "outputs": [],
   "source": [
    "getKeyboardInput <- function() {\n",
    "    result <- data.frame()\n",
    "    \n",
    "    methodID <- readline(prompt=\"ID метода: \")\n",
    "    id <- 1\n",
    "    while (as.integer(methodID) >= 1 & as.integer(methodID) <= 4) {    \n",
    "\n",
    "        a <- as.numeric(readline(prompt=\"A = \"))\n",
    "        b <- as.numeric(readline(prompt=\"B = \"))\n",
    "        n <- as.integer(readline(prompt=\"N = \"))\n",
    "        \n",
    "        if (id == 1) {\n",
    "            result <- data.frame(MethodID = id, A = a, B = b, N = n)\n",
    "        }\n",
    "        else {\n",
    "            result <- rbind(result, c(id, a, b, n))\n",
    "        }\n",
    "\n",
    "        id <- id + 1\n",
    "        methodID <- as.integer(readline(prompt=\"ID метода: \"))\n",
    "    }\n",
    "    \n",
    "    return (result)\n",
    "}"
   ]
  },
  {
   "cell_type": "markdown",
   "metadata": {},
   "source": [
    "Содержимое файла должно быть в формате csv с 4мя полями:\n",
    "\n",
    "+ MethodID (ID метода интегрирования) - целое число от 1 до 4 включительно;\n",
    "+ A (начало промежутка интегрирования) - вещественное число;\n",
    "+ B (конец промежутка интегрирования) - вещественное число;\n",
    "+ N (количество разбиений) - натуральное число.\n"
   ]
  },
  {
   "cell_type": "code",
   "execution_count": 20,
   "metadata": {},
   "outputs": [],
   "source": [
    "getFileInput <- function(inputFilePath) {\n",
    "    stopifnot(is.character(inputFilePath))\n",
    "    \n",
    "    result <- read.csv(inputFilePath)    \n",
    "    stopifnot(names(result) == c(\"MethodID\", \"A\", \"B\", \"N\"))\n",
    "    \n",
    "    return (result)\n",
    "}"
   ]
  },
  {
   "cell_type": "code",
   "execution_count": 26,
   "metadata": {},
   "outputs": [],
   "source": [
    "f <- function(x) (x^3 - x^2 + 5*x + 5*sin(2*x + x^2)*cos(2*x + x^2) + 3) * exp(-x)\n",
    "\n",
    "inputMethod <- as.integer(readline(prompt=\"Выберите способ ввода данных (1 - Вручную или 2 - Из файла): \"))\n",
    "stopifnot(inputMethod == 1 || inputMethod == 2)"
   ]
  },
  {
   "cell_type": "code",
   "execution_count": 28,
   "metadata": {},
   "outputs": [],
   "source": [
    "input <- data.frame()\n",
    "\n",
    "if (inputMethod == 1) {\n",
    "    input <- getKeyboardInput()\n",
    "} else {\n",
    "    inputFilename <- readline(prompt=\"Полное имя файла ввода (с расширением и путём до него): \")\n",
    "    \n",
    "    input <- getFileInput(inputFilename)\n",
    "}"
   ]
  },
  {
   "cell_type": "code",
   "execution_count": 29,
   "metadata": {},
   "outputs": [
    {
     "data": {
      "text/html": "<table class=\"dataframe\">\n<caption>A data.frame: 2 × 5</caption>\n<thead>\n\t<tr><th></th><th scope=col>MethodID</th><th scope=col>A</th><th scope=col>B</th><th scope=col>N</th><th scope=col>Method</th></tr>\n\t<tr><th></th><th scope=col>&lt;int&gt;</th><th scope=col>&lt;dbl&gt;</th><th scope=col>&lt;dbl&gt;</th><th scope=col>&lt;int&gt;</th><th scope=col>&lt;chr&gt;</th></tr>\n</thead>\n<tbody>\n\t<tr><th scope=row>1</th><td>1</td><td>3</td><td> 4.5</td><td> 7</td><td>Правых прямоугольников    </td></tr>\n\t<tr><th scope=row>2</th><td>2</td><td>3</td><td>10.0</td><td>50</td><td>Серединных прямоугольников</td></tr>\n</tbody>\n</table>\n",
      "text/latex": "A data.frame: 2 × 5\n\\begin{tabular}{r|lllll}\n  & MethodID & A & B & N & Method\\\\\n  & <int> & <dbl> & <dbl> & <int> & <chr>\\\\\n\\hline\n\t1 & 1 & 3 &  4.5 &  7 & Правых прямоугольников    \\\\\n\t2 & 2 & 3 & 10.0 & 50 & Серединных прямоугольников\\\\\n\\end{tabular}\n",
      "text/markdown": "\nA data.frame: 2 × 5\n\n| <!--/--> | MethodID &lt;int&gt; | A &lt;dbl&gt; | B &lt;dbl&gt; | N &lt;int&gt; | Method &lt;chr&gt; |\n|---|---|---|---|---|---|\n| 1 | 1 | 3 |  4.5 |  7 | Правых прямоугольников     |\n| 2 | 2 | 3 | 10.0 | 50 | Серединных прямоугольников |\n\n",
      "text/plain": "  MethodID A B    N  Method                    \n1 1        3  4.5  7 Правых прямоугольников    \n2 2        3 10.0 50 Серединных прямоугольников"
     },
     "metadata": {},
     "output_type": "display_data"
    }
   ],
   "source": [
    "result <- input\n",
    "\n",
    "result$Method <- sapply(result$MethodID, function (x) switch(x,\n",
    "                         '1'=\"Правых прямоугольников\",\n",
    "                         '2'=\"Серединных прямоугольников\",\n",
    "                         '3'=\"Трапеций\",\n",
    "                         '4'=\"Симпсона\",\n",
    "                         \"Unknown\"))\n",
    "head(result)"
   ]
  },
  {
   "cell_type": "code",
   "execution_count": 30,
   "metadata": {},
   "outputs": [
    {
     "data": {
      "text/html": "<table class=\"dataframe\">\n<caption>A data.frame: 2 × 6</caption>\n<thead>\n\t<tr><th></th><th scope=col>MethodID</th><th scope=col>A</th><th scope=col>B</th><th scope=col>N</th><th scope=col>Method</th><th scope=col>Result</th></tr>\n\t<tr><th></th><th scope=col>&lt;int&gt;</th><th scope=col>&lt;dbl&gt;</th><th scope=col>&lt;dbl&gt;</th><th scope=col>&lt;int&gt;</th><th scope=col>&lt;chr&gt;</th><th scope=col>&lt;dbl&gt;</th></tr>\n</thead>\n<tbody>\n\t<tr><th scope=row>1</th><td>1</td><td>3</td><td> 4.5</td><td> 7</td><td>Правых прямоугольников    </td><td>2.195187</td></tr>\n\t<tr><th scope=row>2</th><td>2</td><td>3</td><td>10.0</td><td>50</td><td>Серединных прямоугольников</td><td>4.123612</td></tr>\n</tbody>\n</table>\n",
      "text/latex": "A data.frame: 2 × 6\n\\begin{tabular}{r|llllll}\n  & MethodID & A & B & N & Method & Result\\\\\n  & <int> & <dbl> & <dbl> & <int> & <chr> & <dbl>\\\\\n\\hline\n\t1 & 1 & 3 &  4.5 &  7 & Правых прямоугольников     & 2.195187\\\\\n\t2 & 2 & 3 & 10.0 & 50 & Серединных прямоугольников & 4.123612\\\\\n\\end{tabular}\n",
      "text/markdown": "\nA data.frame: 2 × 6\n\n| <!--/--> | MethodID &lt;int&gt; | A &lt;dbl&gt; | B &lt;dbl&gt; | N &lt;int&gt; | Method &lt;chr&gt; | Result &lt;dbl&gt; |\n|---|---|---|---|---|---|---|\n| 1 | 1 | 3 |  4.5 |  7 | Правых прямоугольников     | 2.195187 |\n| 2 | 2 | 3 | 10.0 | 50 | Серединных прямоугольников | 4.123612 |\n\n",
      "text/plain": "  MethodID A B    N  Method                     Result  \n1 1        3  4.5  7 Правых прямоугольников     2.195187\n2 2        3 10.0 50 Серединных прямоугольников 4.123612"
     },
     "metadata": {},
     "output_type": "display_data"
    }
   ],
   "source": [
    "for (i in 1:length(result[,1])) {\n",
    "    method <- switch(result$MethodID[i], \n",
    "                                    '1'=rightSquaresLoop,\n",
    "                                    '2'=centerSquaresLoop,\n",
    "                                    '3'=trapezoidsLoop,\n",
    "                                    '4'=simpsonsLoop)\n",
    "    result$Result[i] <- method(f, result$A[i], result$B[i], result$N[i])\n",
    "}\n",
    "head(result)"
   ]
  },
  {
   "cell_type": "code",
   "execution_count": 31,
   "metadata": {},
   "outputs": [
    {
     "data": {
      "text/html": "<table class=\"dataframe\">\n<caption>A data.frame: 2 × 5</caption>\n<thead>\n\t<tr><th></th><th scope=col>A</th><th scope=col>B</th><th scope=col>N</th><th scope=col>Method</th><th scope=col>Result</th></tr>\n\t<tr><th></th><th scope=col>&lt;dbl&gt;</th><th scope=col>&lt;dbl&gt;</th><th scope=col>&lt;int&gt;</th><th scope=col>&lt;chr&gt;</th><th scope=col>&lt;dbl&gt;</th></tr>\n</thead>\n<tbody>\n\t<tr><th scope=row>1</th><td>3</td><td> 4.5</td><td> 7</td><td>Правых прямоугольников    </td><td>2.195187</td></tr>\n\t<tr><th scope=row>2</th><td>3</td><td>10.0</td><td>50</td><td>Серединных прямоугольников</td><td>4.123612</td></tr>\n</tbody>\n</table>\n",
      "text/latex": "A data.frame: 2 × 5\n\\begin{tabular}{r|lllll}\n  & A & B & N & Method & Result\\\\\n  & <dbl> & <dbl> & <int> & <chr> & <dbl>\\\\\n\\hline\n\t1 & 3 &  4.5 &  7 & Правых прямоугольников     & 2.195187\\\\\n\t2 & 3 & 10.0 & 50 & Серединных прямоугольников & 4.123612\\\\\n\\end{tabular}\n",
      "text/markdown": "\nA data.frame: 2 × 5\n\n| <!--/--> | A &lt;dbl&gt; | B &lt;dbl&gt; | N &lt;int&gt; | Method &lt;chr&gt; | Result &lt;dbl&gt; |\n|---|---|---|---|---|---|\n| 1 | 3 |  4.5 |  7 | Правых прямоугольников     | 2.195187 |\n| 2 | 3 | 10.0 | 50 | Серединных прямоугольников | 4.123612 |\n\n",
      "text/plain": "  A B    N  Method                     Result  \n1 3  4.5  7 Правых прямоугольников     2.195187\n2 3 10.0 50 Серединных прямоугольников 4.123612"
     },
     "metadata": {},
     "output_type": "display_data"
    }
   ],
   "source": [
    "result <- result[-1]\n",
    "head(result)"
   ]
  },
  {
   "cell_type": "code",
   "execution_count": 37,
   "metadata": {},
   "outputs": [],
   "source": [
    "outputFilename <- readline(prompt=\"Имя выходного файла: \")\n",
    "outputFilepath <- readline(prompt=\"Путь к выходному файлу: \")"
   ]
  },
  {
   "cell_type": "code",
   "execution_count": 38,
   "metadata": {},
   "outputs": [],
   "source": [
    "dir.create(file.path(\"./\", outputFilepath), showWarnings=FALSE)"
   ]
  },
  {
   "cell_type": "code",
   "execution_count": 39,
   "metadata": {},
   "outputs": [],
   "source": [
    "outputPath <- paste(outputFilepath, outputFilename, \".csv\", sep=\"\")"
   ]
  },
  {
   "cell_type": "code",
   "execution_count": 40,
   "metadata": {},
   "outputs": [],
   "source": [
    "write.csv(result, outputPath, fileEncoding=\"UTF-8\")"
   ]
  }
 ],
 "metadata": {
  "kernelspec": {
   "display_name": "R",
   "name": "python388jvsc74a57bd0abc2fa720a0c2069e35961638e046adcc3698bd785304c894e77f65d67e7bdf9"
  },
  "language_info": {
   "codemirror_mode": "r",
   "file_extension": ".r",
   "mimetype": "text/x-r-source",
   "name": "R",
   "pygments_lexer": "r",
   "version": "4.0.5"
  },
  "orig_nbformat": 3
 },
 "nbformat": 4,
 "nbformat_minor": 2
}