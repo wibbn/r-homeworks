{
 "cells": [
  {
   "cell_type": "markdown",
   "metadata": {},
   "source": [
    "# Самостоятельная работа №3"
   ]
  },
  {
   "cell_type": "code",
   "execution_count": 1,
   "metadata": {},
   "outputs": [
    {
     "name": "stderr",
     "output_type": "stream",
     "text": [
      "Installing packages into ‘/usr/local/lib/R/site-library’\n",
      "(as ‘lib’ is unspecified)\n",
      "\n",
      "Warning message in install.packages(c(\"dplyr\", \"tidyr\", \"stringr\")):\n",
      "“'lib = \"/usr/local/lib/R/site-library\"' is not writable”\n"
     ]
    },
    {
     "ename": "ERROR",
     "evalue": "Error in install.packages(c(\"dplyr\", \"tidyr\", \"stringr\")): unable to install packages\n",
     "output_type": "error",
     "traceback": [
      "Error in install.packages(c(\"dplyr\", \"tidyr\", \"stringr\")): unable to install packages\nTraceback:\n",
      "1. install.packages(c(\"dplyr\", \"tidyr\", \"stringr\"))",
      "2. stop(\"unable to install packages\")"
     ]
    }
   ],
   "source": [
    "install.packages(c(\"dplyr\", \"tidyr\", \"stringr\"))\n",
    "install.packages(\"dplyr\")\n",
    "install.packages(\"data.table\")\n",
    "install.packages(\"openxlsx\")"
   ]
  },
  {
   "cell_type": "code",
   "execution_count": 14,
   "metadata": {},
   "outputs": [
    {
     "data": {
      "text/html": "<table class=\"dataframe\">\n<caption>A data.frame: 6 × 477</caption>\n<thead>\n\t<tr><th></th><th scope=col>Province.State</th><th scope=col>Country.Region</th><th scope=col>Lat</th><th scope=col>Long</th><th scope=col>X1.22.20</th><th scope=col>X1.23.20</th><th scope=col>X1.24.20</th><th scope=col>X1.25.20</th><th scope=col>X1.26.20</th><th scope=col>X1.27.20</th><th scope=col>⋯</th><th scope=col>X4.29.21</th><th scope=col>X4.30.21</th><th scope=col>X5.1.21</th><th scope=col>X5.2.21</th><th scope=col>X5.3.21</th><th scope=col>X5.4.21</th><th scope=col>X5.5.21</th><th scope=col>X5.6.21</th><th scope=col>X5.7.21</th><th scope=col>X5.8.21</th></tr>\n\t<tr><th></th><th scope=col>&lt;chr&gt;</th><th scope=col>&lt;chr&gt;</th><th scope=col>&lt;dbl&gt;</th><th scope=col>&lt;dbl&gt;</th><th scope=col>&lt;int&gt;</th><th scope=col>&lt;int&gt;</th><th scope=col>&lt;int&gt;</th><th scope=col>&lt;int&gt;</th><th scope=col>&lt;int&gt;</th><th scope=col>&lt;int&gt;</th><th scope=col>⋯</th><th scope=col>&lt;int&gt;</th><th scope=col>&lt;int&gt;</th><th scope=col>&lt;int&gt;</th><th scope=col>&lt;int&gt;</th><th scope=col>&lt;int&gt;</th><th scope=col>&lt;int&gt;</th><th scope=col>&lt;int&gt;</th><th scope=col>&lt;int&gt;</th><th scope=col>&lt;int&gt;</th><th scope=col>&lt;int&gt;</th></tr>\n</thead>\n<tbody>\n\t<tr><th scope=row>1</th><td></td><td>Afghanistan        </td><td> 33.93911</td><td> 67.70995</td><td>0</td><td>0</td><td>0</td><td>0</td><td>0</td><td>0</td><td>⋯</td><td> 59576</td><td> 59745</td><td> 59939</td><td> 60122</td><td> 60300</td><td> 60563</td><td> 60797</td><td> 61162</td><td> 61455</td><td> 61755</td></tr>\n\t<tr><th scope=row>2</th><td></td><td>Albania            </td><td> 41.15330</td><td> 20.16830</td><td>0</td><td>0</td><td>0</td><td>0</td><td>0</td><td>0</td><td>⋯</td><td>130977</td><td>131085</td><td>131185</td><td>131238</td><td>131276</td><td>131327</td><td>131419</td><td>131510</td><td>131577</td><td>131666</td></tr>\n\t<tr><th scope=row>3</th><td></td><td>Algeria            </td><td> 28.03390</td><td>  1.65960</td><td>0</td><td>0</td><td>0</td><td>0</td><td>0</td><td>0</td><td>⋯</td><td>121866</td><td>122108</td><td>122311</td><td>122522</td><td>122717</td><td>122999</td><td>123272</td><td>123473</td><td>123692</td><td>123900</td></tr>\n\t<tr><th scope=row>4</th><td></td><td>Andorra            </td><td> 42.50630</td><td>  1.52180</td><td>0</td><td>0</td><td>0</td><td>0</td><td>0</td><td>0</td><td>⋯</td><td> 13198</td><td> 13232</td><td> 13232</td><td> 13282</td><td> 13295</td><td> 13316</td><td> 13340</td><td> 13363</td><td> 13390</td><td> 13406</td></tr>\n\t<tr><th scope=row>5</th><td></td><td>Angola             </td><td>-11.20270</td><td> 17.87390</td><td>0</td><td>0</td><td>0</td><td>0</td><td>0</td><td>0</td><td>⋯</td><td> 26431</td><td> 26652</td><td> 26815</td><td> 26993</td><td> 27133</td><td> 27284</td><td> 27529</td><td> 27921</td><td> 28201</td><td> 28477</td></tr>\n\t<tr><th scope=row>6</th><td></td><td>Antigua and Barbuda</td><td> 17.06080</td><td>-61.79640</td><td>0</td><td>0</td><td>0</td><td>0</td><td>0</td><td>0</td><td>⋯</td><td>  1232</td><td>  1232</td><td>  1232</td><td>  1232</td><td>  1232</td><td>  1232</td><td>  1232</td><td>  1232</td><td>  1232</td><td>  1232</td></tr>\n</tbody>\n</table>\n",
      "text/latex": "A data.frame: 6 × 477\n\\begin{tabular}{r|lllllllllllllllllllll}\n  & Province.State & Country.Region & Lat & Long & X1.22.20 & X1.23.20 & X1.24.20 & X1.25.20 & X1.26.20 & X1.27.20 & ⋯ & X4.29.21 & X4.30.21 & X5.1.21 & X5.2.21 & X5.3.21 & X5.4.21 & X5.5.21 & X5.6.21 & X5.7.21 & X5.8.21\\\\\n  & <chr> & <chr> & <dbl> & <dbl> & <int> & <int> & <int> & <int> & <int> & <int> & ⋯ & <int> & <int> & <int> & <int> & <int> & <int> & <int> & <int> & <int> & <int>\\\\\n\\hline\n\t1 &  & Afghanistan         &  33.93911 &  67.70995 & 0 & 0 & 0 & 0 & 0 & 0 & ⋯ &  59576 &  59745 &  59939 &  60122 &  60300 &  60563 &  60797 &  61162 &  61455 &  61755\\\\\n\t2 &  & Albania             &  41.15330 &  20.16830 & 0 & 0 & 0 & 0 & 0 & 0 & ⋯ & 130977 & 131085 & 131185 & 131238 & 131276 & 131327 & 131419 & 131510 & 131577 & 131666\\\\\n\t3 &  & Algeria             &  28.03390 &   1.65960 & 0 & 0 & 0 & 0 & 0 & 0 & ⋯ & 121866 & 122108 & 122311 & 122522 & 122717 & 122999 & 123272 & 123473 & 123692 & 123900\\\\\n\t4 &  & Andorra             &  42.50630 &   1.52180 & 0 & 0 & 0 & 0 & 0 & 0 & ⋯ &  13198 &  13232 &  13232 &  13282 &  13295 &  13316 &  13340 &  13363 &  13390 &  13406\\\\\n\t5 &  & Angola              & -11.20270 &  17.87390 & 0 & 0 & 0 & 0 & 0 & 0 & ⋯ &  26431 &  26652 &  26815 &  26993 &  27133 &  27284 &  27529 &  27921 &  28201 &  28477\\\\\n\t6 &  & Antigua and Barbuda &  17.06080 & -61.79640 & 0 & 0 & 0 & 0 & 0 & 0 & ⋯ &   1232 &   1232 &   1232 &   1232 &   1232 &   1232 &   1232 &   1232 &   1232 &   1232\\\\\n\\end{tabular}\n",
      "text/markdown": "\nA data.frame: 6 × 477\n\n| <!--/--> | Province.State &lt;chr&gt; | Country.Region &lt;chr&gt; | Lat &lt;dbl&gt; | Long &lt;dbl&gt; | X1.22.20 &lt;int&gt; | X1.23.20 &lt;int&gt; | X1.24.20 &lt;int&gt; | X1.25.20 &lt;int&gt; | X1.26.20 &lt;int&gt; | X1.27.20 &lt;int&gt; | ⋯ ⋯ | X4.29.21 &lt;int&gt; | X4.30.21 &lt;int&gt; | X5.1.21 &lt;int&gt; | X5.2.21 &lt;int&gt; | X5.3.21 &lt;int&gt; | X5.4.21 &lt;int&gt; | X5.5.21 &lt;int&gt; | X5.6.21 &lt;int&gt; | X5.7.21 &lt;int&gt; | X5.8.21 &lt;int&gt; |\n|---|---|---|---|---|---|---|---|---|---|---|---|---|---|---|---|---|---|---|---|---|---|\n| 1 | <!----> | Afghanistan         |  33.93911 |  67.70995 | 0 | 0 | 0 | 0 | 0 | 0 | ⋯ |  59576 |  59745 |  59939 |  60122 |  60300 |  60563 |  60797 |  61162 |  61455 |  61755 |\n| 2 | <!----> | Albania             |  41.15330 |  20.16830 | 0 | 0 | 0 | 0 | 0 | 0 | ⋯ | 130977 | 131085 | 131185 | 131238 | 131276 | 131327 | 131419 | 131510 | 131577 | 131666 |\n| 3 | <!----> | Algeria             |  28.03390 |   1.65960 | 0 | 0 | 0 | 0 | 0 | 0 | ⋯ | 121866 | 122108 | 122311 | 122522 | 122717 | 122999 | 123272 | 123473 | 123692 | 123900 |\n| 4 | <!----> | Andorra             |  42.50630 |   1.52180 | 0 | 0 | 0 | 0 | 0 | 0 | ⋯ |  13198 |  13232 |  13232 |  13282 |  13295 |  13316 |  13340 |  13363 |  13390 |  13406 |\n| 5 | <!----> | Angola              | -11.20270 |  17.87390 | 0 | 0 | 0 | 0 | 0 | 0 | ⋯ |  26431 |  26652 |  26815 |  26993 |  27133 |  27284 |  27529 |  27921 |  28201 |  28477 |\n| 6 | <!----> | Antigua and Barbuda |  17.06080 | -61.79640 | 0 | 0 | 0 | 0 | 0 | 0 | ⋯ |   1232 |   1232 |   1232 |   1232 |   1232 |   1232 |   1232 |   1232 |   1232 |   1232 |\n\n",
      "text/plain": "  Province.State Country.Region      Lat       Long      X1.22.20 X1.23.20\n1                Afghanistan          33.93911  67.70995 0        0       \n2                Albania              41.15330  20.16830 0        0       \n3                Algeria              28.03390   1.65960 0        0       \n4                Andorra              42.50630   1.52180 0        0       \n5                Angola              -11.20270  17.87390 0        0       \n6                Antigua and Barbuda  17.06080 -61.79640 0        0       \n  X1.24.20 X1.25.20 X1.26.20 X1.27.20 ⋯ X4.29.21 X4.30.21 X5.1.21 X5.2.21\n1 0        0        0        0        ⋯  59576    59745    59939   60122 \n2 0        0        0        0        ⋯ 130977   131085   131185  131238 \n3 0        0        0        0        ⋯ 121866   122108   122311  122522 \n4 0        0        0        0        ⋯  13198    13232    13232   13282 \n5 0        0        0        0        ⋯  26431    26652    26815   26993 \n6 0        0        0        0        ⋯   1232     1232     1232    1232 \n  X5.3.21 X5.4.21 X5.5.21 X5.6.21 X5.7.21 X5.8.21\n1  60300   60563   60797   61162   61455   61755 \n2 131276  131327  131419  131510  131577  131666 \n3 122717  122999  123272  123473  123692  123900 \n4  13295   13316   13340   13363   13390   13406 \n5  27133   27284   27529   27921   28201   28477 \n6   1232    1232    1232    1232    1232    1232 "
     },
     "metadata": {},
     "output_type": "display_data"
    }
   ],
   "source": [
    "download.file(\n",
    "    \"https://raw.githubusercontent.com/CSSEGISandData/COVID-19/master/csse_covid_19_data/csse_covid_19_time_series/time_series_covid19_confirmed_global.csv\", \n",
    "    paste(\n",
    "        \"./data/practice3/\", \n",
    "        \"time_series_covid19_confirmed_global.csv\", \n",
    "        sep=\"\"\n",
    "    )\n",
    ")\n",
    "\n",
    "a <- read.csv(\"./data/practice3/time_series_covid19_confirmed_global.csv\")\n",
    "\n",
    "head(a)"
   ]
  },
  {
   "cell_type": "code",
   "execution_count": 15,
   "metadata": {},
   "outputs": [
    {
     "data": {
      "text/html": "<style>\n.list-inline {list-style: none; margin:0; padding: 0}\n.list-inline>li {display: inline-block}\n.list-inline>li:not(:last-child)::after {content: \"\\00b7\"; padding: 0 .5ex}\n</style>\n<ol class=list-inline><li>'Long'</li><li>'X1.22.20'</li><li>'X1.23.20'</li><li>'X1.24.20'</li><li>'X1.25.20'</li><li>'X1.26.20'</li></ol>\n",
      "text/latex": "\\begin{enumerate*}\n\\item 'Long'\n\\item 'X1.22.20'\n\\item 'X1.23.20'\n\\item 'X1.24.20'\n\\item 'X1.25.20'\n\\item 'X1.26.20'\n\\end{enumerate*}\n",
      "text/markdown": "1. 'Long'\n2. 'X1.22.20'\n3. 'X1.23.20'\n4. 'X1.24.20'\n5. 'X1.25.20'\n6. 'X1.26.20'\n\n\n",
      "text/plain": "[1] \"Long\"     \"X1.22.20\" \"X1.23.20\" \"X1.24.20\" \"X1.25.20\" \"X1.26.20\""
     },
     "metadata": {},
     "output_type": "display_data"
    },
    {
     "data": {
      "text/html": "<table class=\"dataframe\">\n<caption>A data.frame: 6 × 477</caption>\n<thead>\n\t<tr><th></th><th scope=col>Province.State</th><th scope=col>Country.Region</th><th scope=col>Lat</th><th scope=col>Long</th><th scope=col>X1.22.20</th><th scope=col>X1.23.20</th><th scope=col>X1.24.20</th><th scope=col>X1.25.20</th><th scope=col>X1.26.20</th><th scope=col>X1.27.20</th><th scope=col>⋯</th><th scope=col>X4.29.21</th><th scope=col>X4.30.21</th><th scope=col>X5.1.21</th><th scope=col>X5.2.21</th><th scope=col>X5.3.21</th><th scope=col>X5.4.21</th><th scope=col>X5.5.21</th><th scope=col>X5.6.21</th><th scope=col>X5.7.21</th><th scope=col>X5.8.21</th></tr>\n\t<tr><th></th><th scope=col>&lt;chr&gt;</th><th scope=col>&lt;chr&gt;</th><th scope=col>&lt;dbl&gt;</th><th scope=col>&lt;dbl&gt;</th><th scope=col>&lt;int&gt;</th><th scope=col>&lt;int&gt;</th><th scope=col>&lt;int&gt;</th><th scope=col>&lt;int&gt;</th><th scope=col>&lt;int&gt;</th><th scope=col>&lt;int&gt;</th><th scope=col>⋯</th><th scope=col>&lt;int&gt;</th><th scope=col>&lt;int&gt;</th><th scope=col>&lt;int&gt;</th><th scope=col>&lt;int&gt;</th><th scope=col>&lt;int&gt;</th><th scope=col>&lt;int&gt;</th><th scope=col>&lt;int&gt;</th><th scope=col>&lt;int&gt;</th><th scope=col>&lt;int&gt;</th><th scope=col>&lt;int&gt;</th></tr>\n</thead>\n<tbody>\n\t<tr><th scope=row>1</th><td></td><td>Afghanistan        </td><td> 33.93911</td><td> 67.70995</td><td>0</td><td>0</td><td>0</td><td>0</td><td>0</td><td>0</td><td>⋯</td><td> 59576</td><td> 59745</td><td> 59939</td><td> 60122</td><td> 60300</td><td> 60563</td><td> 60797</td><td> 61162</td><td> 61455</td><td> 61755</td></tr>\n\t<tr><th scope=row>2</th><td></td><td>Albania            </td><td> 41.15330</td><td> 20.16830</td><td>0</td><td>0</td><td>0</td><td>0</td><td>0</td><td>0</td><td>⋯</td><td>130977</td><td>131085</td><td>131185</td><td>131238</td><td>131276</td><td>131327</td><td>131419</td><td>131510</td><td>131577</td><td>131666</td></tr>\n\t<tr><th scope=row>3</th><td></td><td>Algeria            </td><td> 28.03390</td><td>  1.65960</td><td>0</td><td>0</td><td>0</td><td>0</td><td>0</td><td>0</td><td>⋯</td><td>121866</td><td>122108</td><td>122311</td><td>122522</td><td>122717</td><td>122999</td><td>123272</td><td>123473</td><td>123692</td><td>123900</td></tr>\n\t<tr><th scope=row>4</th><td></td><td>Andorra            </td><td> 42.50630</td><td>  1.52180</td><td>0</td><td>0</td><td>0</td><td>0</td><td>0</td><td>0</td><td>⋯</td><td> 13198</td><td> 13232</td><td> 13232</td><td> 13282</td><td> 13295</td><td> 13316</td><td> 13340</td><td> 13363</td><td> 13390</td><td> 13406</td></tr>\n\t<tr><th scope=row>5</th><td></td><td>Angola             </td><td>-11.20270</td><td> 17.87390</td><td>0</td><td>0</td><td>0</td><td>0</td><td>0</td><td>0</td><td>⋯</td><td> 26431</td><td> 26652</td><td> 26815</td><td> 26993</td><td> 27133</td><td> 27284</td><td> 27529</td><td> 27921</td><td> 28201</td><td> 28477</td></tr>\n\t<tr><th scope=row>6</th><td></td><td>Antigua and Barbuda</td><td> 17.06080</td><td>-61.79640</td><td>0</td><td>0</td><td>0</td><td>0</td><td>0</td><td>0</td><td>⋯</td><td>  1232</td><td>  1232</td><td>  1232</td><td>  1232</td><td>  1232</td><td>  1232</td><td>  1232</td><td>  1232</td><td>  1232</td><td>  1232</td></tr>\n</tbody>\n</table>\n",
      "text/latex": "A data.frame: 6 × 477\n\\begin{tabular}{r|lllllllllllllllllllll}\n  & Province.State & Country.Region & Lat & Long & X1.22.20 & X1.23.20 & X1.24.20 & X1.25.20 & X1.26.20 & X1.27.20 & ⋯ & X4.29.21 & X4.30.21 & X5.1.21 & X5.2.21 & X5.3.21 & X5.4.21 & X5.5.21 & X5.6.21 & X5.7.21 & X5.8.21\\\\\n  & <chr> & <chr> & <dbl> & <dbl> & <int> & <int> & <int> & <int> & <int> & <int> & ⋯ & <int> & <int> & <int> & <int> & <int> & <int> & <int> & <int> & <int> & <int>\\\\\n\\hline\n\t1 &  & Afghanistan         &  33.93911 &  67.70995 & 0 & 0 & 0 & 0 & 0 & 0 & ⋯ &  59576 &  59745 &  59939 &  60122 &  60300 &  60563 &  60797 &  61162 &  61455 &  61755\\\\\n\t2 &  & Albania             &  41.15330 &  20.16830 & 0 & 0 & 0 & 0 & 0 & 0 & ⋯ & 130977 & 131085 & 131185 & 131238 & 131276 & 131327 & 131419 & 131510 & 131577 & 131666\\\\\n\t3 &  & Algeria             &  28.03390 &   1.65960 & 0 & 0 & 0 & 0 & 0 & 0 & ⋯ & 121866 & 122108 & 122311 & 122522 & 122717 & 122999 & 123272 & 123473 & 123692 & 123900\\\\\n\t4 &  & Andorra             &  42.50630 &   1.52180 & 0 & 0 & 0 & 0 & 0 & 0 & ⋯ &  13198 &  13232 &  13232 &  13282 &  13295 &  13316 &  13340 &  13363 &  13390 &  13406\\\\\n\t5 &  & Angola              & -11.20270 &  17.87390 & 0 & 0 & 0 & 0 & 0 & 0 & ⋯ &  26431 &  26652 &  26815 &  26993 &  27133 &  27284 &  27529 &  27921 &  28201 &  28477\\\\\n\t6 &  & Antigua and Barbuda &  17.06080 & -61.79640 & 0 & 0 & 0 & 0 & 0 & 0 & ⋯ &   1232 &   1232 &   1232 &   1232 &   1232 &   1232 &   1232 &   1232 &   1232 &   1232\\\\\n\\end{tabular}\n",
      "text/markdown": "\nA data.frame: 6 × 477\n\n| <!--/--> | Province.State &lt;chr&gt; | Country.Region &lt;chr&gt; | Lat &lt;dbl&gt; | Long &lt;dbl&gt; | X1.22.20 &lt;int&gt; | X1.23.20 &lt;int&gt; | X1.24.20 &lt;int&gt; | X1.25.20 &lt;int&gt; | X1.26.20 &lt;int&gt; | X1.27.20 &lt;int&gt; | ⋯ ⋯ | X4.29.21 &lt;int&gt; | X4.30.21 &lt;int&gt; | X5.1.21 &lt;int&gt; | X5.2.21 &lt;int&gt; | X5.3.21 &lt;int&gt; | X5.4.21 &lt;int&gt; | X5.5.21 &lt;int&gt; | X5.6.21 &lt;int&gt; | X5.7.21 &lt;int&gt; | X5.8.21 &lt;int&gt; |\n|---|---|---|---|---|---|---|---|---|---|---|---|---|---|---|---|---|---|---|---|---|---|\n| 1 | <!----> | Afghanistan         |  33.93911 |  67.70995 | 0 | 0 | 0 | 0 | 0 | 0 | ⋯ |  59576 |  59745 |  59939 |  60122 |  60300 |  60563 |  60797 |  61162 |  61455 |  61755 |\n| 2 | <!----> | Albania             |  41.15330 |  20.16830 | 0 | 0 | 0 | 0 | 0 | 0 | ⋯ | 130977 | 131085 | 131185 | 131238 | 131276 | 131327 | 131419 | 131510 | 131577 | 131666 |\n| 3 | <!----> | Algeria             |  28.03390 |   1.65960 | 0 | 0 | 0 | 0 | 0 | 0 | ⋯ | 121866 | 122108 | 122311 | 122522 | 122717 | 122999 | 123272 | 123473 | 123692 | 123900 |\n| 4 | <!----> | Andorra             |  42.50630 |   1.52180 | 0 | 0 | 0 | 0 | 0 | 0 | ⋯ |  13198 |  13232 |  13232 |  13282 |  13295 |  13316 |  13340 |  13363 |  13390 |  13406 |\n| 5 | <!----> | Angola              | -11.20270 |  17.87390 | 0 | 0 | 0 | 0 | 0 | 0 | ⋯ |  26431 |  26652 |  26815 |  26993 |  27133 |  27284 |  27529 |  27921 |  28201 |  28477 |\n| 6 | <!----> | Antigua and Barbuda |  17.06080 | -61.79640 | 0 | 0 | 0 | 0 | 0 | 0 | ⋯ |   1232 |   1232 |   1232 |   1232 |   1232 |   1232 |   1232 |   1232 |   1232 |   1232 |\n\n",
      "text/plain": "  Province.State Country.Region      Lat       Long      X1.22.20 X1.23.20\n1                Afghanistan          33.93911  67.70995 0        0       \n2                Albania              41.15330  20.16830 0        0       \n3                Algeria              28.03390   1.65960 0        0       \n4                Andorra              42.50630   1.52180 0        0       \n5                Angola              -11.20270  17.87390 0        0       \n6                Antigua and Barbuda  17.06080 -61.79640 0        0       \n  X1.24.20 X1.25.20 X1.26.20 X1.27.20 ⋯ X4.29.21 X4.30.21 X5.1.21 X5.2.21\n1 0        0        0        0        ⋯  59576    59745    59939   60122 \n2 0        0        0        0        ⋯ 130977   131085   131185  131238 \n3 0        0        0        0        ⋯ 121866   122108   122311  122522 \n4 0        0        0        0        ⋯  13198    13232    13232   13282 \n5 0        0        0        0        ⋯  26431    26652    26815   26993 \n6 0        0        0        0        ⋯   1232     1232     1232    1232 \n  X5.3.21 X5.4.21 X5.5.21 X5.6.21 X5.7.21 X5.8.21\n1  60300   60563   60797   61162   61455   61755 \n2 131276  131327  131419  131510  131577  131666 \n3 122717  122999  123272  123473  123692  123900 \n4  13295   13316   13340   13363   13390   13406 \n5  27133   27284   27529   27921   28201   28477 \n6   1232    1232    1232    1232    1232    1232 "
     },
     "metadata": {},
     "output_type": "display_data"
    }
   ],
   "source": [
    "\n",
    "cols <- colnames(a)[4:length(colnames(a))]\n",
    "head(cols)\n",
    "\n",
    "colnames(a)[4:length(colnames(a))] <- cols\n",
    "head(a)"
   ]
  },
  {
   "cell_type": "code",
   "execution_count": 16,
   "metadata": {},
   "outputs": [
    {
     "data": {
      "text/html": "<table class=\"dataframe\">\n<caption>A data.frame: 6 × 476</caption>\n<thead>\n\t<tr><th></th><th scope=col>Location</th><th scope=col>Lat</th><th scope=col>Long</th><th scope=col>X1.22.20</th><th scope=col>X1.23.20</th><th scope=col>X1.24.20</th><th scope=col>X1.25.20</th><th scope=col>X1.26.20</th><th scope=col>X1.27.20</th><th scope=col>X1.28.20</th><th scope=col>⋯</th><th scope=col>X4.29.21</th><th scope=col>X4.30.21</th><th scope=col>X5.1.21</th><th scope=col>X5.2.21</th><th scope=col>X5.3.21</th><th scope=col>X5.4.21</th><th scope=col>X5.5.21</th><th scope=col>X5.6.21</th><th scope=col>X5.7.21</th><th scope=col>X5.8.21</th></tr>\n\t<tr><th></th><th scope=col>&lt;chr&gt;</th><th scope=col>&lt;dbl&gt;</th><th scope=col>&lt;dbl&gt;</th><th scope=col>&lt;int&gt;</th><th scope=col>&lt;int&gt;</th><th scope=col>&lt;int&gt;</th><th scope=col>&lt;int&gt;</th><th scope=col>&lt;int&gt;</th><th scope=col>&lt;int&gt;</th><th scope=col>&lt;int&gt;</th><th scope=col>⋯</th><th scope=col>&lt;int&gt;</th><th scope=col>&lt;int&gt;</th><th scope=col>&lt;int&gt;</th><th scope=col>&lt;int&gt;</th><th scope=col>&lt;int&gt;</th><th scope=col>&lt;int&gt;</th><th scope=col>&lt;int&gt;</th><th scope=col>&lt;int&gt;</th><th scope=col>&lt;int&gt;</th><th scope=col>&lt;int&gt;</th></tr>\n</thead>\n<tbody>\n\t<tr><th scope=row>1</th><td>Afghanistan        </td><td> 33.93911</td><td> 67.70995</td><td>0</td><td>0</td><td>0</td><td>0</td><td>0</td><td>0</td><td>0</td><td>⋯</td><td> 59576</td><td> 59745</td><td> 59939</td><td> 60122</td><td> 60300</td><td> 60563</td><td> 60797</td><td> 61162</td><td> 61455</td><td> 61755</td></tr>\n\t<tr><th scope=row>2</th><td>Albania            </td><td> 41.15330</td><td> 20.16830</td><td>0</td><td>0</td><td>0</td><td>0</td><td>0</td><td>0</td><td>0</td><td>⋯</td><td>130977</td><td>131085</td><td>131185</td><td>131238</td><td>131276</td><td>131327</td><td>131419</td><td>131510</td><td>131577</td><td>131666</td></tr>\n\t<tr><th scope=row>3</th><td>Algeria            </td><td> 28.03390</td><td>  1.65960</td><td>0</td><td>0</td><td>0</td><td>0</td><td>0</td><td>0</td><td>0</td><td>⋯</td><td>121866</td><td>122108</td><td>122311</td><td>122522</td><td>122717</td><td>122999</td><td>123272</td><td>123473</td><td>123692</td><td>123900</td></tr>\n\t<tr><th scope=row>4</th><td>Andorra            </td><td> 42.50630</td><td>  1.52180</td><td>0</td><td>0</td><td>0</td><td>0</td><td>0</td><td>0</td><td>0</td><td>⋯</td><td> 13198</td><td> 13232</td><td> 13232</td><td> 13282</td><td> 13295</td><td> 13316</td><td> 13340</td><td> 13363</td><td> 13390</td><td> 13406</td></tr>\n\t<tr><th scope=row>5</th><td>Angola             </td><td>-11.20270</td><td> 17.87390</td><td>0</td><td>0</td><td>0</td><td>0</td><td>0</td><td>0</td><td>0</td><td>⋯</td><td> 26431</td><td> 26652</td><td> 26815</td><td> 26993</td><td> 27133</td><td> 27284</td><td> 27529</td><td> 27921</td><td> 28201</td><td> 28477</td></tr>\n\t<tr><th scope=row>6</th><td>Antigua and Barbuda</td><td> 17.06080</td><td>-61.79640</td><td>0</td><td>0</td><td>0</td><td>0</td><td>0</td><td>0</td><td>0</td><td>⋯</td><td>  1232</td><td>  1232</td><td>  1232</td><td>  1232</td><td>  1232</td><td>  1232</td><td>  1232</td><td>  1232</td><td>  1232</td><td>  1232</td></tr>\n</tbody>\n</table>\n",
      "text/latex": "A data.frame: 6 × 476\n\\begin{tabular}{r|lllllllllllllllllllll}\n  & Location & Lat & Long & X1.22.20 & X1.23.20 & X1.24.20 & X1.25.20 & X1.26.20 & X1.27.20 & X1.28.20 & ⋯ & X4.29.21 & X4.30.21 & X5.1.21 & X5.2.21 & X5.3.21 & X5.4.21 & X5.5.21 & X5.6.21 & X5.7.21 & X5.8.21\\\\\n  & <chr> & <dbl> & <dbl> & <int> & <int> & <int> & <int> & <int> & <int> & <int> & ⋯ & <int> & <int> & <int> & <int> & <int> & <int> & <int> & <int> & <int> & <int>\\\\\n\\hline\n\t1 & Afghanistan         &  33.93911 &  67.70995 & 0 & 0 & 0 & 0 & 0 & 0 & 0 & ⋯ &  59576 &  59745 &  59939 &  60122 &  60300 &  60563 &  60797 &  61162 &  61455 &  61755\\\\\n\t2 & Albania             &  41.15330 &  20.16830 & 0 & 0 & 0 & 0 & 0 & 0 & 0 & ⋯ & 130977 & 131085 & 131185 & 131238 & 131276 & 131327 & 131419 & 131510 & 131577 & 131666\\\\\n\t3 & Algeria             &  28.03390 &   1.65960 & 0 & 0 & 0 & 0 & 0 & 0 & 0 & ⋯ & 121866 & 122108 & 122311 & 122522 & 122717 & 122999 & 123272 & 123473 & 123692 & 123900\\\\\n\t4 & Andorra             &  42.50630 &   1.52180 & 0 & 0 & 0 & 0 & 0 & 0 & 0 & ⋯ &  13198 &  13232 &  13232 &  13282 &  13295 &  13316 &  13340 &  13363 &  13390 &  13406\\\\\n\t5 & Angola              & -11.20270 &  17.87390 & 0 & 0 & 0 & 0 & 0 & 0 & 0 & ⋯ &  26431 &  26652 &  26815 &  26993 &  27133 &  27284 &  27529 &  27921 &  28201 &  28477\\\\\n\t6 & Antigua and Barbuda &  17.06080 & -61.79640 & 0 & 0 & 0 & 0 & 0 & 0 & 0 & ⋯ &   1232 &   1232 &   1232 &   1232 &   1232 &   1232 &   1232 &   1232 &   1232 &   1232\\\\\n\\end{tabular}\n",
      "text/markdown": "\nA data.frame: 6 × 476\n\n| <!--/--> | Location &lt;chr&gt; | Lat &lt;dbl&gt; | Long &lt;dbl&gt; | X1.22.20 &lt;int&gt; | X1.23.20 &lt;int&gt; | X1.24.20 &lt;int&gt; | X1.25.20 &lt;int&gt; | X1.26.20 &lt;int&gt; | X1.27.20 &lt;int&gt; | X1.28.20 &lt;int&gt; | ⋯ ⋯ | X4.29.21 &lt;int&gt; | X4.30.21 &lt;int&gt; | X5.1.21 &lt;int&gt; | X5.2.21 &lt;int&gt; | X5.3.21 &lt;int&gt; | X5.4.21 &lt;int&gt; | X5.5.21 &lt;int&gt; | X5.6.21 &lt;int&gt; | X5.7.21 &lt;int&gt; | X5.8.21 &lt;int&gt; |\n|---|---|---|---|---|---|---|---|---|---|---|---|---|---|---|---|---|---|---|---|---|---|\n| 1 | Afghanistan         |  33.93911 |  67.70995 | 0 | 0 | 0 | 0 | 0 | 0 | 0 | ⋯ |  59576 |  59745 |  59939 |  60122 |  60300 |  60563 |  60797 |  61162 |  61455 |  61755 |\n| 2 | Albania             |  41.15330 |  20.16830 | 0 | 0 | 0 | 0 | 0 | 0 | 0 | ⋯ | 130977 | 131085 | 131185 | 131238 | 131276 | 131327 | 131419 | 131510 | 131577 | 131666 |\n| 3 | Algeria             |  28.03390 |   1.65960 | 0 | 0 | 0 | 0 | 0 | 0 | 0 | ⋯ | 121866 | 122108 | 122311 | 122522 | 122717 | 122999 | 123272 | 123473 | 123692 | 123900 |\n| 4 | Andorra             |  42.50630 |   1.52180 | 0 | 0 | 0 | 0 | 0 | 0 | 0 | ⋯ |  13198 |  13232 |  13232 |  13282 |  13295 |  13316 |  13340 |  13363 |  13390 |  13406 |\n| 5 | Angola              | -11.20270 |  17.87390 | 0 | 0 | 0 | 0 | 0 | 0 | 0 | ⋯ |  26431 |  26652 |  26815 |  26993 |  27133 |  27284 |  27529 |  27921 |  28201 |  28477 |\n| 6 | Antigua and Barbuda |  17.06080 | -61.79640 | 0 | 0 | 0 | 0 | 0 | 0 | 0 | ⋯ |   1232 |   1232 |   1232 |   1232 |   1232 |   1232 |   1232 |   1232 |   1232 |   1232 |\n\n",
      "text/plain": "  Location            Lat       Long      X1.22.20 X1.23.20 X1.24.20 X1.25.20\n1 Afghanistan          33.93911  67.70995 0        0        0        0       \n2 Albania              41.15330  20.16830 0        0        0        0       \n3 Algeria              28.03390   1.65960 0        0        0        0       \n4 Andorra              42.50630   1.52180 0        0        0        0       \n5 Angola              -11.20270  17.87390 0        0        0        0       \n6 Antigua and Barbuda  17.06080 -61.79640 0        0        0        0       \n  X1.26.20 X1.27.20 X1.28.20 ⋯ X4.29.21 X4.30.21 X5.1.21 X5.2.21 X5.3.21\n1 0        0        0        ⋯  59576    59745    59939   60122   60300 \n2 0        0        0        ⋯ 130977   131085   131185  131238  131276 \n3 0        0        0        ⋯ 121866   122108   122311  122522  122717 \n4 0        0        0        ⋯  13198    13232    13232   13282   13295 \n5 0        0        0        ⋯  26431    26652    26815   26993   27133 \n6 0        0        0        ⋯   1232     1232     1232    1232    1232 \n  X5.4.21 X5.5.21 X5.6.21 X5.7.21 X5.8.21\n1  60563   60797   61162   61455   61755 \n2 131327  131419  131510  131577  131666 \n3 122999  123272  123473  123692  123900 \n4  13316   13340   13363   13390   13406 \n5  27284   27529   27921   28201   28477 \n6   1232    1232    1232    1232    1232 "
     },
     "metadata": {},
     "output_type": "display_data"
    }
   ],
   "source": [
    "library(tidyr)\n",
    "library(dplyr)\n",
    "\n",
    "\n",
    "a <- unite(a, \"Location\", Province.State:Country.Region)\n",
    "a <- mutate(a, Location = gsub(\"^_\", \"\", Location))\n",
    "head(a)"
   ]
  },
  {
   "cell_type": "code",
   "execution_count": 17,
   "metadata": {},
   "outputs": [
    {
     "data": {
      "text/html": "<table class=\"dataframe\">\n<caption>A data.frame: 6 × 6</caption>\n<thead>\n\t<tr><th></th><th scope=col>Location</th><th scope=col>Lat</th><th scope=col>Long</th><th scope=col>Amount</th><th scope=col>Average</th><th scope=col>SD</th></tr>\n\t<tr><th></th><th scope=col>&lt;chr&gt;</th><th scope=col>&lt;dbl&gt;</th><th scope=col>&lt;dbl&gt;</th><th scope=col>&lt;dbl&gt;</th><th scope=col>&lt;dbl&gt;</th><th scope=col>&lt;dbl&gt;</th></tr>\n</thead>\n<tbody>\n\t<tr><th scope=row>1</th><td>Afghanistan        </td><td> 33.93911</td><td> 67.70995</td><td>15663184</td><td>33184.7119</td><td>21306.9180</td></tr>\n\t<tr><th scope=row>2</th><td>Albania            </td><td> 41.15330</td><td> 20.16830</td><td>16995535</td><td>36007.4894</td><td>45164.0816</td></tr>\n\t<tr><th scope=row>3</th><td>Algeria            </td><td> 28.03390</td><td>  1.65960</td><td>25036479</td><td>53043.3877</td><td>44998.2631</td></tr>\n\t<tr><th scope=row>4</th><td>Andorra            </td><td> 42.50630</td><td>  1.52180</td><td> 2095092</td><td> 4438.7542</td><td> 4572.7331</td></tr>\n\t<tr><th scope=row>5</th><td>Angola             </td><td>-11.20270</td><td> 17.87390</td><td> 4105926</td><td> 8698.9958</td><td> 9330.6174</td></tr>\n\t<tr><th scope=row>6</th><td>Antigua and Barbuda</td><td> 17.06080</td><td>-61.79640</td><td>  117632</td><td>  249.2203</td><td>  374.5957</td></tr>\n</tbody>\n</table>\n",
      "text/latex": "A data.frame: 6 × 6\n\\begin{tabular}{r|llllll}\n  & Location & Lat & Long & Amount & Average & SD\\\\\n  & <chr> & <dbl> & <dbl> & <dbl> & <dbl> & <dbl>\\\\\n\\hline\n\t1 & Afghanistan         &  33.93911 &  67.70995 & 15663184 & 33184.7119 & 21306.9180\\\\\n\t2 & Albania             &  41.15330 &  20.16830 & 16995535 & 36007.4894 & 45164.0816\\\\\n\t3 & Algeria             &  28.03390 &   1.65960 & 25036479 & 53043.3877 & 44998.2631\\\\\n\t4 & Andorra             &  42.50630 &   1.52180 &  2095092 &  4438.7542 &  4572.7331\\\\\n\t5 & Angola              & -11.20270 &  17.87390 &  4105926 &  8698.9958 &  9330.6174\\\\\n\t6 & Antigua and Barbuda &  17.06080 & -61.79640 &   117632 &   249.2203 &   374.5957\\\\\n\\end{tabular}\n",
      "text/markdown": "\nA data.frame: 6 × 6\n\n| <!--/--> | Location &lt;chr&gt; | Lat &lt;dbl&gt; | Long &lt;dbl&gt; | Amount &lt;dbl&gt; | Average &lt;dbl&gt; | SD &lt;dbl&gt; |\n|---|---|---|---|---|---|---|\n| 1 | Afghanistan         |  33.93911 |  67.70995 | 15663184 | 33184.7119 | 21306.9180 |\n| 2 | Albania             |  41.15330 |  20.16830 | 16995535 | 36007.4894 | 45164.0816 |\n| 3 | Algeria             |  28.03390 |   1.65960 | 25036479 | 53043.3877 | 44998.2631 |\n| 4 | Andorra             |  42.50630 |   1.52180 |  2095092 |  4438.7542 |  4572.7331 |\n| 5 | Angola              | -11.20270 |  17.87390 |  4105926 |  8698.9958 |  9330.6174 |\n| 6 | Antigua and Barbuda |  17.06080 | -61.79640 |   117632 |   249.2203 |   374.5957 |\n\n",
      "text/plain": "  Location            Lat       Long      Amount   Average    SD        \n1 Afghanistan          33.93911  67.70995 15663184 33184.7119 21306.9180\n2 Albania              41.15330  20.16830 16995535 36007.4894 45164.0816\n3 Algeria              28.03390   1.65960 25036479 53043.3877 44998.2631\n4 Andorra              42.50630   1.52180  2095092  4438.7542  4572.7331\n5 Angola              -11.20270  17.87390  4105926  8698.9958  9330.6174\n6 Antigua and Barbuda  17.06080 -61.79640   117632   249.2203   374.5957"
     },
     "metadata": {},
     "output_type": "display_data"
    }
   ],
   "source": [
    "second <- select(a, c(\"Location\", \"Lat\", \"Long\"))\n",
    "\n",
    "second[\"Amount\"] <- rowSums(a[4:length(colnames(a))])\n",
    "second[\"Average\"] <- second[\"Amount\"] / (length(colnames(a)) - 4)\n",
    "second[\"SD\"] <- apply(a[4:length(colnames(a))], 1, sd, na.rm=TRUE)\n",
    "\n",
    "head(second)"
   ]
  },
  {
   "cell_type": "code",
   "execution_count": 18,
   "metadata": {},
   "outputs": [
    {
     "name": "stderr",
     "output_type": "stream",
     "text": [
      "\n",
      "Attaching package: ‘data.table’\n",
      "\n",
      "\n",
      "The following objects are masked from ‘package:dplyr’:\n",
      "\n",
      "    between, first, last\n",
      "\n",
      "\n"
     ]
    },
    {
     "data": {
      "text/html": "<table class=\"dataframe\">\n<caption>A data.frame: 6 × 474</caption>\n<thead>\n\t<tr><th></th><th scope=col>Location</th><th scope=col>X1.22.20</th><th scope=col>X1.23.20</th><th scope=col>X1.24.20</th><th scope=col>X1.25.20</th><th scope=col>X1.26.20</th><th scope=col>X1.27.20</th><th scope=col>X1.28.20</th><th scope=col>X1.29.20</th><th scope=col>X1.30.20</th><th scope=col>⋯</th><th scope=col>X4.29.21</th><th scope=col>X4.30.21</th><th scope=col>X5.1.21</th><th scope=col>X5.2.21</th><th scope=col>X5.3.21</th><th scope=col>X5.4.21</th><th scope=col>X5.5.21</th><th scope=col>X5.6.21</th><th scope=col>X5.7.21</th><th scope=col>X5.8.21</th></tr>\n\t<tr><th></th><th scope=col>&lt;chr&gt;</th><th scope=col>&lt;int&gt;</th><th scope=col>&lt;int&gt;</th><th scope=col>&lt;int&gt;</th><th scope=col>&lt;int&gt;</th><th scope=col>&lt;int&gt;</th><th scope=col>&lt;int&gt;</th><th scope=col>&lt;int&gt;</th><th scope=col>&lt;int&gt;</th><th scope=col>&lt;int&gt;</th><th scope=col>⋯</th><th scope=col>&lt;int&gt;</th><th scope=col>&lt;int&gt;</th><th scope=col>&lt;int&gt;</th><th scope=col>&lt;int&gt;</th><th scope=col>&lt;int&gt;</th><th scope=col>&lt;int&gt;</th><th scope=col>&lt;int&gt;</th><th scope=col>&lt;int&gt;</th><th scope=col>&lt;int&gt;</th><th scope=col>&lt;int&gt;</th></tr>\n</thead>\n<tbody>\n\t<tr><th scope=row>1</th><td>Afghanistan        </td><td>0</td><td>0</td><td>0</td><td>0</td><td>0</td><td>0</td><td>0</td><td>0</td><td>0</td><td>⋯</td><td> 59576</td><td> 59745</td><td> 59939</td><td> 60122</td><td> 60300</td><td> 60563</td><td> 60797</td><td> 61162</td><td> 61455</td><td> 61755</td></tr>\n\t<tr><th scope=row>2</th><td>Albania            </td><td>0</td><td>0</td><td>0</td><td>0</td><td>0</td><td>0</td><td>0</td><td>0</td><td>0</td><td>⋯</td><td>130977</td><td>131085</td><td>131185</td><td>131238</td><td>131276</td><td>131327</td><td>131419</td><td>131510</td><td>131577</td><td>131666</td></tr>\n\t<tr><th scope=row>3</th><td>Algeria            </td><td>0</td><td>0</td><td>0</td><td>0</td><td>0</td><td>0</td><td>0</td><td>0</td><td>0</td><td>⋯</td><td>121866</td><td>122108</td><td>122311</td><td>122522</td><td>122717</td><td>122999</td><td>123272</td><td>123473</td><td>123692</td><td>123900</td></tr>\n\t<tr><th scope=row>4</th><td>Andorra            </td><td>0</td><td>0</td><td>0</td><td>0</td><td>0</td><td>0</td><td>0</td><td>0</td><td>0</td><td>⋯</td><td> 13198</td><td> 13232</td><td> 13232</td><td> 13282</td><td> 13295</td><td> 13316</td><td> 13340</td><td> 13363</td><td> 13390</td><td> 13406</td></tr>\n\t<tr><th scope=row>5</th><td>Angola             </td><td>0</td><td>0</td><td>0</td><td>0</td><td>0</td><td>0</td><td>0</td><td>0</td><td>0</td><td>⋯</td><td> 26431</td><td> 26652</td><td> 26815</td><td> 26993</td><td> 27133</td><td> 27284</td><td> 27529</td><td> 27921</td><td> 28201</td><td> 28477</td></tr>\n\t<tr><th scope=row>6</th><td>Antigua and Barbuda</td><td>0</td><td>0</td><td>0</td><td>0</td><td>0</td><td>0</td><td>0</td><td>0</td><td>0</td><td>⋯</td><td>  1232</td><td>  1232</td><td>  1232</td><td>  1232</td><td>  1232</td><td>  1232</td><td>  1232</td><td>  1232</td><td>  1232</td><td>  1232</td></tr>\n</tbody>\n</table>\n",
      "text/latex": "A data.frame: 6 × 474\n\\begin{tabular}{r|lllllllllllllllllllll}\n  & Location & X1.22.20 & X1.23.20 & X1.24.20 & X1.25.20 & X1.26.20 & X1.27.20 & X1.28.20 & X1.29.20 & X1.30.20 & ⋯ & X4.29.21 & X4.30.21 & X5.1.21 & X5.2.21 & X5.3.21 & X5.4.21 & X5.5.21 & X5.6.21 & X5.7.21 & X5.8.21\\\\\n  & <chr> & <int> & <int> & <int> & <int> & <int> & <int> & <int> & <int> & <int> & ⋯ & <int> & <int> & <int> & <int> & <int> & <int> & <int> & <int> & <int> & <int>\\\\\n\\hline\n\t1 & Afghanistan         & 0 & 0 & 0 & 0 & 0 & 0 & 0 & 0 & 0 & ⋯ &  59576 &  59745 &  59939 &  60122 &  60300 &  60563 &  60797 &  61162 &  61455 &  61755\\\\\n\t2 & Albania             & 0 & 0 & 0 & 0 & 0 & 0 & 0 & 0 & 0 & ⋯ & 130977 & 131085 & 131185 & 131238 & 131276 & 131327 & 131419 & 131510 & 131577 & 131666\\\\\n\t3 & Algeria             & 0 & 0 & 0 & 0 & 0 & 0 & 0 & 0 & 0 & ⋯ & 121866 & 122108 & 122311 & 122522 & 122717 & 122999 & 123272 & 123473 & 123692 & 123900\\\\\n\t4 & Andorra             & 0 & 0 & 0 & 0 & 0 & 0 & 0 & 0 & 0 & ⋯ &  13198 &  13232 &  13232 &  13282 &  13295 &  13316 &  13340 &  13363 &  13390 &  13406\\\\\n\t5 & Angola              & 0 & 0 & 0 & 0 & 0 & 0 & 0 & 0 & 0 & ⋯ &  26431 &  26652 &  26815 &  26993 &  27133 &  27284 &  27529 &  27921 &  28201 &  28477\\\\\n\t6 & Antigua and Barbuda & 0 & 0 & 0 & 0 & 0 & 0 & 0 & 0 & 0 & ⋯ &   1232 &   1232 &   1232 &   1232 &   1232 &   1232 &   1232 &   1232 &   1232 &   1232\\\\\n\\end{tabular}\n",
      "text/markdown": "\nA data.frame: 6 × 474\n\n| <!--/--> | Location &lt;chr&gt; | X1.22.20 &lt;int&gt; | X1.23.20 &lt;int&gt; | X1.24.20 &lt;int&gt; | X1.25.20 &lt;int&gt; | X1.26.20 &lt;int&gt; | X1.27.20 &lt;int&gt; | X1.28.20 &lt;int&gt; | X1.29.20 &lt;int&gt; | X1.30.20 &lt;int&gt; | ⋯ ⋯ | X4.29.21 &lt;int&gt; | X4.30.21 &lt;int&gt; | X5.1.21 &lt;int&gt; | X5.2.21 &lt;int&gt; | X5.3.21 &lt;int&gt; | X5.4.21 &lt;int&gt; | X5.5.21 &lt;int&gt; | X5.6.21 &lt;int&gt; | X5.7.21 &lt;int&gt; | X5.8.21 &lt;int&gt; |\n|---|---|---|---|---|---|---|---|---|---|---|---|---|---|---|---|---|---|---|---|---|---|\n| 1 | Afghanistan         | 0 | 0 | 0 | 0 | 0 | 0 | 0 | 0 | 0 | ⋯ |  59576 |  59745 |  59939 |  60122 |  60300 |  60563 |  60797 |  61162 |  61455 |  61755 |\n| 2 | Albania             | 0 | 0 | 0 | 0 | 0 | 0 | 0 | 0 | 0 | ⋯ | 130977 | 131085 | 131185 | 131238 | 131276 | 131327 | 131419 | 131510 | 131577 | 131666 |\n| 3 | Algeria             | 0 | 0 | 0 | 0 | 0 | 0 | 0 | 0 | 0 | ⋯ | 121866 | 122108 | 122311 | 122522 | 122717 | 122999 | 123272 | 123473 | 123692 | 123900 |\n| 4 | Andorra             | 0 | 0 | 0 | 0 | 0 | 0 | 0 | 0 | 0 | ⋯ |  13198 |  13232 |  13232 |  13282 |  13295 |  13316 |  13340 |  13363 |  13390 |  13406 |\n| 5 | Angola              | 0 | 0 | 0 | 0 | 0 | 0 | 0 | 0 | 0 | ⋯ |  26431 |  26652 |  26815 |  26993 |  27133 |  27284 |  27529 |  27921 |  28201 |  28477 |\n| 6 | Antigua and Barbuda | 0 | 0 | 0 | 0 | 0 | 0 | 0 | 0 | 0 | ⋯ |   1232 |   1232 |   1232 |   1232 |   1232 |   1232 |   1232 |   1232 |   1232 |   1232 |\n\n",
      "text/plain": "  Location            X1.22.20 X1.23.20 X1.24.20 X1.25.20 X1.26.20 X1.27.20\n1 Afghanistan         0        0        0        0        0        0       \n2 Albania             0        0        0        0        0        0       \n3 Algeria             0        0        0        0        0        0       \n4 Andorra             0        0        0        0        0        0       \n5 Angola              0        0        0        0        0        0       \n6 Antigua and Barbuda 0        0        0        0        0        0       \n  X1.28.20 X1.29.20 X1.30.20 ⋯ X4.29.21 X4.30.21 X5.1.21 X5.2.21 X5.3.21\n1 0        0        0        ⋯  59576    59745    59939   60122   60300 \n2 0        0        0        ⋯ 130977   131085   131185  131238  131276 \n3 0        0        0        ⋯ 121866   122108   122311  122522  122717 \n4 0        0        0        ⋯  13198    13232    13232   13282   13295 \n5 0        0        0        ⋯  26431    26652    26815   26993   27133 \n6 0        0        0        ⋯   1232     1232     1232    1232    1232 \n  X5.4.21 X5.5.21 X5.6.21 X5.7.21 X5.8.21\n1  60563   60797   61162   61455   61755 \n2 131327  131419  131510  131577  131666 \n3 122999  123272  123473  123692  123900 \n4  13316   13340   13363   13390   13406 \n5  27284   27529   27921   28201   28477 \n6   1232    1232    1232    1232    1232 "
     },
     "metadata": {},
     "output_type": "display_data"
    },
    {
     "data": {
      "text/html": "<table class=\"dataframe\">\n<caption>A data.table: 6 × 276</caption>\n<thead>\n\t<tr><th scope=col>Date</th><th scope=col>Afghanistan</th><th scope=col>Albania</th><th scope=col>Algeria</th><th scope=col>Andorra</th><th scope=col>Angola</th><th scope=col>Antigua and Barbuda</th><th scope=col>Argentina</th><th scope=col>Armenia</th><th scope=col>Australian Capital Territory_Australia</th><th scope=col>⋯</th><th scope=col>United Kingdom</th><th scope=col>Uruguay</th><th scope=col>Uzbekistan</th><th scope=col>Vanuatu</th><th scope=col>Venezuela</th><th scope=col>Vietnam</th><th scope=col>West Bank and Gaza</th><th scope=col>Yemen</th><th scope=col>Zambia</th><th scope=col>Zimbabwe</th></tr>\n\t<tr><th scope=col>&lt;date&gt;</th><th scope=col>&lt;int&gt;</th><th scope=col>&lt;int&gt;</th><th scope=col>&lt;int&gt;</th><th scope=col>&lt;int&gt;</th><th scope=col>&lt;int&gt;</th><th scope=col>&lt;int&gt;</th><th scope=col>&lt;int&gt;</th><th scope=col>&lt;int&gt;</th><th scope=col>&lt;int&gt;</th><th scope=col>⋯</th><th scope=col>&lt;int&gt;</th><th scope=col>&lt;int&gt;</th><th scope=col>&lt;int&gt;</th><th scope=col>&lt;int&gt;</th><th scope=col>&lt;int&gt;</th><th scope=col>&lt;int&gt;</th><th scope=col>&lt;int&gt;</th><th scope=col>&lt;int&gt;</th><th scope=col>&lt;int&gt;</th><th scope=col>&lt;int&gt;</th></tr>\n</thead>\n<tbody>\n\t<tr><td>NA</td><td>0</td><td>0</td><td>0</td><td>0</td><td>0</td><td>0</td><td>0</td><td>0</td><td>0</td><td>⋯</td><td>0</td><td>0</td><td>0</td><td>0</td><td>0</td><td>0</td><td>0</td><td>0</td><td>0</td><td>0</td></tr>\n\t<tr><td>NA</td><td>0</td><td>0</td><td>0</td><td>0</td><td>0</td><td>0</td><td>0</td><td>0</td><td>0</td><td>⋯</td><td>0</td><td>0</td><td>0</td><td>0</td><td>0</td><td>2</td><td>0</td><td>0</td><td>0</td><td>0</td></tr>\n\t<tr><td>NA</td><td>0</td><td>0</td><td>0</td><td>0</td><td>0</td><td>0</td><td>0</td><td>0</td><td>0</td><td>⋯</td><td>0</td><td>0</td><td>0</td><td>0</td><td>0</td><td>2</td><td>0</td><td>0</td><td>0</td><td>0</td></tr>\n\t<tr><td>NA</td><td>0</td><td>0</td><td>0</td><td>0</td><td>0</td><td>0</td><td>0</td><td>0</td><td>0</td><td>⋯</td><td>0</td><td>0</td><td>0</td><td>0</td><td>0</td><td>2</td><td>0</td><td>0</td><td>0</td><td>0</td></tr>\n\t<tr><td>NA</td><td>0</td><td>0</td><td>0</td><td>0</td><td>0</td><td>0</td><td>0</td><td>0</td><td>0</td><td>⋯</td><td>0</td><td>0</td><td>0</td><td>0</td><td>0</td><td>2</td><td>0</td><td>0</td><td>0</td><td>0</td></tr>\n\t<tr><td>NA</td><td>0</td><td>0</td><td>0</td><td>0</td><td>0</td><td>0</td><td>0</td><td>0</td><td>0</td><td>⋯</td><td>0</td><td>0</td><td>0</td><td>0</td><td>0</td><td>2</td><td>0</td><td>0</td><td>0</td><td>0</td></tr>\n</tbody>\n</table>\n",
      "text/latex": "A data.table: 6 × 276\n\\begin{tabular}{lllllllllllllllllllll}\n Date & Afghanistan & Albania & Algeria & Andorra & Angola & Antigua and Barbuda & Argentina & Armenia & Australian Capital Territory\\_Australia & ⋯ & United Kingdom & Uruguay & Uzbekistan & Vanuatu & Venezuela & Vietnam & West Bank and Gaza & Yemen & Zambia & Zimbabwe\\\\\n <date> & <int> & <int> & <int> & <int> & <int> & <int> & <int> & <int> & <int> & ⋯ & <int> & <int> & <int> & <int> & <int> & <int> & <int> & <int> & <int> & <int>\\\\\n\\hline\n\t NA & 0 & 0 & 0 & 0 & 0 & 0 & 0 & 0 & 0 & ⋯ & 0 & 0 & 0 & 0 & 0 & 0 & 0 & 0 & 0 & 0\\\\\n\t NA & 0 & 0 & 0 & 0 & 0 & 0 & 0 & 0 & 0 & ⋯ & 0 & 0 & 0 & 0 & 0 & 2 & 0 & 0 & 0 & 0\\\\\n\t NA & 0 & 0 & 0 & 0 & 0 & 0 & 0 & 0 & 0 & ⋯ & 0 & 0 & 0 & 0 & 0 & 2 & 0 & 0 & 0 & 0\\\\\n\t NA & 0 & 0 & 0 & 0 & 0 & 0 & 0 & 0 & 0 & ⋯ & 0 & 0 & 0 & 0 & 0 & 2 & 0 & 0 & 0 & 0\\\\\n\t NA & 0 & 0 & 0 & 0 & 0 & 0 & 0 & 0 & 0 & ⋯ & 0 & 0 & 0 & 0 & 0 & 2 & 0 & 0 & 0 & 0\\\\\n\t NA & 0 & 0 & 0 & 0 & 0 & 0 & 0 & 0 & 0 & ⋯ & 0 & 0 & 0 & 0 & 0 & 2 & 0 & 0 & 0 & 0\\\\\n\\end{tabular}\n",
      "text/markdown": "\nA data.table: 6 × 276\n\n| Date &lt;date&gt; | Afghanistan &lt;int&gt; | Albania &lt;int&gt; | Algeria &lt;int&gt; | Andorra &lt;int&gt; | Angola &lt;int&gt; | Antigua and Barbuda &lt;int&gt; | Argentina &lt;int&gt; | Armenia &lt;int&gt; | Australian Capital Territory_Australia &lt;int&gt; | ⋯ ⋯ | United Kingdom &lt;int&gt; | Uruguay &lt;int&gt; | Uzbekistan &lt;int&gt; | Vanuatu &lt;int&gt; | Venezuela &lt;int&gt; | Vietnam &lt;int&gt; | West Bank and Gaza &lt;int&gt; | Yemen &lt;int&gt; | Zambia &lt;int&gt; | Zimbabwe &lt;int&gt; |\n|---|---|---|---|---|---|---|---|---|---|---|---|---|---|---|---|---|---|---|---|---|\n| NA | 0 | 0 | 0 | 0 | 0 | 0 | 0 | 0 | 0 | ⋯ | 0 | 0 | 0 | 0 | 0 | 0 | 0 | 0 | 0 | 0 |\n| NA | 0 | 0 | 0 | 0 | 0 | 0 | 0 | 0 | 0 | ⋯ | 0 | 0 | 0 | 0 | 0 | 2 | 0 | 0 | 0 | 0 |\n| NA | 0 | 0 | 0 | 0 | 0 | 0 | 0 | 0 | 0 | ⋯ | 0 | 0 | 0 | 0 | 0 | 2 | 0 | 0 | 0 | 0 |\n| NA | 0 | 0 | 0 | 0 | 0 | 0 | 0 | 0 | 0 | ⋯ | 0 | 0 | 0 | 0 | 0 | 2 | 0 | 0 | 0 | 0 |\n| NA | 0 | 0 | 0 | 0 | 0 | 0 | 0 | 0 | 0 | ⋯ | 0 | 0 | 0 | 0 | 0 | 2 | 0 | 0 | 0 | 0 |\n| NA | 0 | 0 | 0 | 0 | 0 | 0 | 0 | 0 | 0 | ⋯ | 0 | 0 | 0 | 0 | 0 | 2 | 0 | 0 | 0 | 0 |\n\n",
      "text/plain": "  Date Afghanistan Albania Algeria Andorra Angola Antigua and Barbuda Argentina\n1 <NA> 0           0       0       0       0      0                   0        \n2 <NA> 0           0       0       0       0      0                   0        \n3 <NA> 0           0       0       0       0      0                   0        \n4 <NA> 0           0       0       0       0      0                   0        \n5 <NA> 0           0       0       0       0      0                   0        \n6 <NA> 0           0       0       0       0      0                   0        \n  Armenia Australian Capital Territory_Australia ⋯ United Kingdom Uruguay\n1 0       0                                      ⋯ 0              0      \n2 0       0                                      ⋯ 0              0      \n3 0       0                                      ⋯ 0              0      \n4 0       0                                      ⋯ 0              0      \n5 0       0                                      ⋯ 0              0      \n6 0       0                                      ⋯ 0              0      \n  Uzbekistan Vanuatu Venezuela Vietnam West Bank and Gaza Yemen Zambia Zimbabwe\n1 0          0       0         0       0                  0     0      0       \n2 0          0       0         2       0                  0     0      0       \n3 0          0       0         2       0                  0     0      0       \n4 0          0       0         2       0                  0     0      0       \n5 0          0       0         2       0                  0     0      0       \n6 0          0       0         2       0                  0     0      0       "
     },
     "metadata": {},
     "output_type": "display_data"
    }
   ],
   "source": [
    "library(data.table)\n",
    "\n",
    "temp <- a[-(2:3)]\n",
    "result <- data.frame(t(temp[-1]))\n",
    "\n",
    "colnames(result) <- temp[, 1]\n",
    "setDT(result, keep.rownames=\"Date\")\n",
    "result$Date <- as.Date(result$Date, format=\"%m.%d.%y\")\n",
    "\n",
    "head(temp)\n",
    "head(result)"
   ]
  },
  {
   "cell_type": "code",
   "execution_count": null,
   "metadata": {},
   "outputs": [],
   "source": [
    "library(openxlsx)\n",
    "\n",
    "dir.create(file.path(\"./data/practice3/\", \"data_output\"), showWarnings=FALSE)\n",
    "\n",
    "write.table(result, \"./data/practice3/data_output/result.txt\")\n",
    "write.csv(result, \"./data/practice3/data_output/result.csv\", row.names=FALSE)\n",
    "write.xlsx(result, \"./data/practice3/data_output/result.xlsx\")"
   ]
  }
 ],
 "metadata": {
  "kernelspec": {
   "display_name": "R",
   "language": "R",
   "name": "python388jvsc74a57bd0abc2fa720a0c2069e35961638e046adcc3698bd785304c894e77f65d67e7bdf9"
  },
  "language_info": {
   "codemirror_mode": "r",
   "file_extension": ".r",
   "mimetype": "text/x-r-source",
   "name": "R",
   "pygments_lexer": "r",
   "version": "4.0.5"
  },
  "orig_nbformat": 2
 },
 "nbformat": 4,
 "nbformat_minor": 2
}