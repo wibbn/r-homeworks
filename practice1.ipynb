{
 "cells": [
  {
   "cell_type": "markdown",
   "metadata": {},
   "source": [
    "# Самостоятельная работа №1"
   ]
  },
  {
   "cell_type": "markdown",
   "metadata": {},
   "source": [
    "## Часть 1"
   ]
  },
  {
   "cell_type": "code",
   "execution_count": 8,
   "metadata": {},
   "outputs": [
    {
     "name": "stdout",
     "output_type": "stream",
     "text": [
      "[1] 4\n",
      "[1] 2\n"
     ]
    }
   ],
   "source": [
    "x <- 2\n",
    "y <- 4\n",
    "\n",
    "t <- x\n",
    "x <- y\n",
    "y <- t\n",
    "\n",
    "print(x)\n",
    "print(y)"
   ]
  },
  {
   "cell_type": "code",
   "execution_count": 13,
   "metadata": {},
   "outputs": [
    {
     "name": "stdout",
     "output_type": "stream",
     "text": [
      "double character double logical \n",
      "character double double integer"
     ]
    }
   ],
   "source": [
    "x <- 3.5\n",
    "y <- \"2,6\"\n",
    "z <- 1.78\n",
    "h <- TRUE\n",
    "\n",
    "cat(typeof(x), typeof(y), typeof(z), typeof(h), \"\\n\")\n",
    "\n",
    "h <- as.integer(h)\n",
    "y <- as.double(gsub(\",\", \".\", y))\n",
    "x <- as.character(x)\n",
    "\n",
    "cat(typeof(x), typeof(y), typeof(z), typeof(h))"
   ]
  },
  {
   "cell_type": "code",
   "execution_count": 16,
   "metadata": {},
   "outputs": [
    {
     "data": {
      "text/html": "7.36073990305828",
      "text/latex": "7.36073990305828",
      "text/markdown": "7.36073990305828",
      "text/plain": "[1] 7.36074"
     },
     "metadata": {},
     "output_type": "display_data"
    }
   ],
   "source": [
    "dohod <- 1573\n",
    "dohod <- log(dohod)\n",
    "print(dohod)"
   ]
  },
  {
   "cell_type": "code",
   "execution_count": 19,
   "metadata": {},
   "outputs": [
    {
     "name": "stdout",
     "output_type": "stream",
     "text": [
      "[1] 21\n"
     ]
    }
   ],
   "source": [
    "text <- readLines(con = \"data/practice1/number.txt\", n = 1)\n",
    "num <- as.integer(text)\n",
    "print(2 * num - 1)"
   ]
  },
  {
   "cell_type": "markdown",
   "metadata": {},
   "source": [
    "## Часть 2"
   ]
  },
  {
   "cell_type": "code",
   "execution_count": 45,
   "metadata": {},
   "outputs": [
    {
     "name": "stdout",
     "output_type": "stream",
     "text": [
      "[1] 1\n",
      "[1] 0\n",
      "[1] 2 3 6\n",
      "[1] 2 2\n",
      "[1]  6  8 12 15  9 16\n",
      "[1]  0  3  6 12 15  0  9  0\n",
      "[1]  6 12 15  9\n",
      "[1]  0  6  8 12 15  0  9 16  0\n",
      "[1]  3 15\n",
      "[1]  3  4  5  6 13 15\n",
      " [1] NA NA  0  0  0  1  3  4  6  8  9 15 16\n"
     ]
    }
   ],
   "source": [
    "g <- c(1, 0, 2, 3, 6, 8, 12, 15, 0, NA, NA, 9, 4, 16, 2, 0)\n",
    "print(g[1])\n",
    "print(g[16])\n",
    "print(g[3:5])\n",
    "print(g[which(g == 2)])\n",
    "print(g[which(g > 4)])\n",
    "print(g[which(g %% 3 == 0)])\n",
    "print(g[which(g > 4 & g %% 3 == 0)])\n",
    "print(g[which(g < 1 | g > 5)])\n",
    "print(which(g == 2))\n",
    "print(which(g >= 2 & g <= 8))\n",
    "print(sort(g[g %% 10 != 2], na.last = FALSE))"
   ]
  },
  {
   "cell_type": "code",
   "execution_count": 48,
   "metadata": {},
   "outputs": [
    {
     "name": "stdout",
     "output_type": "stream",
     "text": [
      " [1]  1  0  2  3  6  8 12 15  0 NA NA  9  4 16  2 NA\n"
     ]
    }
   ],
   "source": [
    "g[length(g)] <- NA\n",
    "print(g)"
   ]
  },
  {
   "cell_type": "code",
   "execution_count": 53,
   "metadata": {},
   "outputs": [
    {
     "name": "stdout",
     "output_type": "stream",
     "text": [
      "[1] 10 11 16\n"
     ]
    }
   ],
   "source": [
    "print(which(is.na(g)))"
   ]
  },
  {
   "cell_type": "code",
   "execution_count": 54,
   "metadata": {},
   "outputs": [
    {
     "name": "stdout",
     "output_type": "stream",
     "text": [
      "[1] 3\n"
     ]
    }
   ],
   "source": [
    "print(sum(is.na(g)))"
   ]
  },
  {
   "cell_type": "code",
   "execution_count": 57,
   "metadata": {},
   "outputs": [
    {
     "name": "stdout",
     "output_type": "stream",
     "text": [
      "  [1]   1   2   3   4   5   6   7   8   9  10  11  12  13  14  15  16  17  18\n",
      " [19]  19  20  21  22  23  24  25  26  27  28  29  30  31  32  33  34  35  36\n",
      " [37]  37  38  39  40  41  42  43  44  45  46  47  48  49  50  51  52  53  54\n",
      " [55]  55  56  57  58  59  60  61  62  63  64  65  66  67  68  69  70  71  72\n",
      " [73]  73  74  75  76  77  78  79  80  81  82  83  84  85  86  87  88  89  90\n",
      " [91]  91  92  93  94  95  96  97  98  99 100\n"
     ]
    }
   ],
   "source": [
    "s <- 1:100\n",
    "print(s)"
   ]
  },
  {
   "cell_type": "code",
   "execution_count": 58,
   "metadata": {},
   "outputs": [
    {
     "name": "stdout",
     "output_type": "stream",
     "text": [
      "France France France France France Italy Italy Italy Italy Italy Spain Spain Spain Spain Spain 2019 2020 2020 2019 2017 2019 2020 2020 2019 2017 2019 2020 2020 2019 2017"
     ]
    }
   ],
   "source": [
    "countries <- c(rep(\"France\", 5), rep(\"Italy\", 5), rep(\"Spain\", 5))\n",
    "years <- rep(c(2019, 2020, 2020, 2019, 2017), 3)\n",
    "cat(countries, years)"
   ]
  },
  {
   "cell_type": "code",
   "execution_count": 62,
   "metadata": {},
   "outputs": [
    {
     "name": "stdout",
     "output_type": "stream",
     "text": [
      "[1] 0 0 0 1 1 0\n"
     ]
    }
   ],
   "source": [
    "income <- c(10000, 32000, 28000, 150000, 65000, 1573)\n",
    "income_mean <- sum(income) / length(income)\n",
    "\n",
    "income_class <- as.integer(income >= income_mean)\n",
    "\n",
    "print(income_class)"
   ]
  },
  {
   "cell_type": "code",
   "execution_count": 81,
   "metadata": {},
   "outputs": [
    {
     "name": "stdout",
     "output_type": "stream",
     "text": [
      "[1] 191.0314\n"
     ]
    }
   ],
   "source": [
    "t <- readLines(con = \"data/practice1/coords.txt\")\n",
    "coords <- as.integer(t)\n",
    "p <- 1.26\n",
    "\n",
    "x <- sum(abs(coords)^p) ^ (1 / p)\n",
    "\n",
    "print(x)\n",
    "writeLines(as.character(x), \"data/practice1/result.txt\")"
   ]
  },
  {
   "cell_type": "code",
   "execution_count": 82,
   "metadata": {},
   "outputs": [
    {
     "name": "stdout",
     "output_type": "stream",
     "text": [
      " [1]   1   8  -8  52 -46  12   1 -18  40 -39   1  28 -13  29 -49\n",
      " [1]   7 -16  60 -98  58 -11 -19  58 -79  40  27 -41  42 -78\n"
     ]
    }
   ],
   "source": [
    "t <- readLines(con = \"data/practice1/coords.txt\")\n",
    "coords <- as.integer(t)\n",
    "\n",
    "dx <- coords[2:length(coords)] - coords[1:length(coords) - 1]\n",
    "d2x <- dx[2:length(dx)] - dx[1:length(dx) - 1]\n",
    "\n",
    "print(dx)\n",
    "print(d2x)\n",
    "writeLines(as.character(d2x), \"data/practice1/diff_vectors.txt\")"
   ]
  }
 ],
 "metadata": {
  "kernelspec": {
   "display_name": "R",
   "language": "R",
   "name": "python388jvsc74a57bd0abc2fa720a0c2069e35961638e046adcc3698bd785304c894e77f65d67e7bdf9"
  },
  "language_info": {
   "codemirror_mode": "r",
   "file_extension": ".r",
   "mimetype": "text/x-r-source",
   "name": "R",
   "pygments_lexer": "r",
   "version": "4.0.5"
  },
  "orig_nbformat": 2
 },
 "nbformat": 4,
 "nbformat_minor": 2
}