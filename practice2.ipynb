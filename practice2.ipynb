{
 "cells": [
  {
   "cell_type": "markdown",
   "metadata": {},
   "source": [
    "# Самостоятельная работа №2"
   ]
  },
  {
   "cell_type": "markdown",
   "metadata": {},
   "source": [
    "## Часть 1"
   ]
  },
  {
   "cell_type": "code",
   "execution_count": 8,
   "metadata": {},
   "outputs": [
    {
     "data": {
      "text/html": "<table class=\"dataframe\">\n<caption>A matrix: 3 × 4 of type dbl</caption>\n<tbody>\n\t<tr><td>3</td><td>3</td><td>3</td><td>3</td></tr>\n\t<tr><td>3</td><td>3</td><td>3</td><td>3</td></tr>\n\t<tr><td>3</td><td>3</td><td>3</td><td>3</td></tr>\n</tbody>\n</table>\n",
      "text/latex": "A matrix: 3 × 4 of type dbl\n\\begin{tabular}{llll}\n\t 3 & 3 & 3 & 3\\\\\n\t 3 & 3 & 3 & 3\\\\\n\t 3 & 3 & 3 & 3\\\\\n\\end{tabular}\n",
      "text/markdown": "\nA matrix: 3 × 4 of type dbl\n\n| 3 | 3 | 3 | 3 |\n| 3 | 3 | 3 | 3 |\n| 3 | 3 | 3 | 3 |\n\n",
      "text/plain": "     [,1] [,2] [,3] [,4]\n[1,] 3    3    3    3   \n[2,] 3    3    3    3   \n[3,] 3    3    3    3   "
     },
     "metadata": {},
     "output_type": "display_data"
    },
    {
     "data": {
      "text/html": "<table class=\"dataframe\">\n<caption>A matrix: 3 × 4 of type dbl</caption>\n<tbody>\n\t<tr><td>3</td><td> 3</td><td>4</td><td>3</td></tr>\n\t<tr><td>1</td><td> 3</td><td>3</td><td>3</td></tr>\n\t<tr><td>3</td><td>NA</td><td>3</td><td>1</td></tr>\n</tbody>\n</table>\n",
      "text/latex": "A matrix: 3 × 4 of type dbl\n\\begin{tabular}{llll}\n\t 3 &  3 & 4 & 3\\\\\n\t 1 &  3 & 3 & 3\\\\\n\t 3 & NA & 3 & 1\\\\\n\\end{tabular}\n",
      "text/markdown": "\nA matrix: 3 × 4 of type dbl\n\n| 3 |  3 | 4 | 3 |\n| 1 |  3 | 3 | 3 |\n| 3 | NA | 3 | 1 |\n\n",
      "text/plain": "     [,1] [,2] [,3] [,4]\n[1,] 3     3   4    3   \n[2,] 1     3   3    3   \n[3,] 3    NA   3    1   "
     },
     "metadata": {},
     "output_type": "display_data"
    }
   ],
   "source": [
    "m <- matrix(3, 3, 4)\n",
    "m\n",
    "\n",
    "m[1, 3] <- 4\n",
    "m[2, 1] <- 1\n",
    "m[3, 2] <- NA\n",
    "m[dim(m)[1], dim(m)[2]] <- 1\n",
    "m"
   ]
  },
  {
   "cell_type": "code",
   "execution_count": 10,
   "metadata": {},
   "outputs": [
    {
     "data": {
      "text/html": "<table class=\"dataframe\">\n<caption>A matrix: 5 × 3 of type dbl</caption>\n<thead>\n\t<tr><th scope=col>a</th><th scope=col>b</th><th scope=col>c</th></tr>\n</thead>\n<tbody>\n\t<tr><td> 1</td><td>5</td><td> 9</td></tr>\n\t<tr><td> 3</td><td>6</td><td>10</td></tr>\n\t<tr><td> 4</td><td>7</td><td>13</td></tr>\n\t<tr><td> 9</td><td>0</td><td> 1</td></tr>\n\t<tr><td>NA</td><td>2</td><td>20</td></tr>\n</tbody>\n</table>\n",
      "text/latex": "A matrix: 5 × 3 of type dbl\n\\begin{tabular}{lll}\n a & b & c\\\\\n\\hline\n\t  1 & 5 &  9\\\\\n\t  3 & 6 & 10\\\\\n\t  4 & 7 & 13\\\\\n\t  9 & 0 &  1\\\\\n\t NA & 2 & 20\\\\\n\\end{tabular}\n",
      "text/markdown": "\nA matrix: 5 × 3 of type dbl\n\n| a | b | c |\n|---|---|---|\n|  1 | 5 |  9 |\n|  3 | 6 | 10 |\n|  4 | 7 | 13 |\n|  9 | 0 |  1 |\n| NA | 2 | 20 |\n\n",
      "text/plain": "     a  b c \n[1,]  1 5  9\n[2,]  3 6 10\n[3,]  4 7 13\n[4,]  9 0  1\n[5,] NA 2 20"
     },
     "metadata": {},
     "output_type": "display_data"
    },
    {
     "data": {
      "text/html": "<table class=\"dataframe\">\n<caption>A matrix: 3 × 5 of type dbl</caption>\n<tbody>\n\t<tr><th scope=row>a</th><td>1</td><td> 3</td><td> 4</td><td>9</td><td>NA</td></tr>\n\t<tr><th scope=row>b</th><td>5</td><td> 6</td><td> 7</td><td>0</td><td> 2</td></tr>\n\t<tr><th scope=row>c</th><td>9</td><td>10</td><td>13</td><td>1</td><td>20</td></tr>\n</tbody>\n</table>\n",
      "text/latex": "A matrix: 3 × 5 of type dbl\n\\begin{tabular}{r|lllll}\n\ta & 1 &  3 &  4 & 9 & NA\\\\\n\tb & 5 &  6 &  7 & 0 &  2\\\\\n\tc & 9 & 10 & 13 & 1 & 20\\\\\n\\end{tabular}\n",
      "text/markdown": "\nA matrix: 3 × 5 of type dbl\n\n| a | 1 |  3 |  4 | 9 | NA |\n| b | 5 |  6 |  7 | 0 |  2 |\n| c | 9 | 10 | 13 | 1 | 20 |\n\n",
      "text/plain": "  [,1] [,2] [,3] [,4] [,5]\na 1     3    4   9    NA  \nb 5     6    7   0     2  \nc 9    10   13   1    20  "
     },
     "metadata": {},
     "output_type": "display_data"
    },
    {
     "data": {
      "text/html": "<table class=\"dataframe\">\n<caption>A matrix: 3 × 5 of type dbl</caption>\n<thead>\n\t<tr><th></th><th scope=col>1</th><th scope=col>2</th><th scope=col>3</th><th scope=col>4</th><th scope=col>5</th></tr>\n</thead>\n<tbody>\n\t<tr><th scope=row>first</th><td>1</td><td> 3</td><td> 4</td><td>9</td><td>NA</td></tr>\n\t<tr><th scope=row>second</th><td>5</td><td> 6</td><td> 7</td><td>0</td><td> 2</td></tr>\n\t<tr><th scope=row>third</th><td>9</td><td>10</td><td>13</td><td>1</td><td>20</td></tr>\n</tbody>\n</table>\n",
      "text/latex": "A matrix: 3 × 5 of type dbl\n\\begin{tabular}{r|lllll}\n  & 1 & 2 & 3 & 4 & 5\\\\\n\\hline\n\tfirst & 1 &  3 &  4 & 9 & NA\\\\\n\tsecond & 5 &  6 &  7 & 0 &  2\\\\\n\tthird & 9 & 10 & 13 & 1 & 20\\\\\n\\end{tabular}\n",
      "text/markdown": "\nA matrix: 3 × 5 of type dbl\n\n| <!--/--> | 1 | 2 | 3 | 4 | 5 |\n|---|---|---|---|---|---|\n| first | 1 |  3 |  4 | 9 | NA |\n| second | 5 |  6 |  7 | 0 |  2 |\n| third | 9 | 10 | 13 | 1 | 20 |\n\n",
      "text/plain": "       1 2  3  4 5 \nfirst  1  3  4 9 NA\nsecond 5  6  7 0  2\nthird  9 10 13 1 20"
     },
     "metadata": {},
     "output_type": "display_data"
    }
   ],
   "source": [
    "a <- c(1, 3, 4, 9, NA)\n",
    "b <- c(5, 6, 7, 0, 2)\n",
    "c  <- c(9, 10, 13, 1, 20)\n",
    "\n",
    "m <- cbind(a, b, c)\n",
    "m\n",
    "\n",
    "m <- rbind(a, b, c)\n",
    "m\n",
    "\n",
    "rownames(m) <- c(\"first\", \"second\", \"third\")\n",
    "colnames(m) <- sapply(1:dim(m)[2], as.character)\n",
    "m"
   ]
  },
  {
   "cell_type": "code",
   "execution_count": 12,
   "metadata": {},
   "outputs": [
    {
     "data": {
      "text/html": "<table class=\"dataframe\">\n<caption>A matrix: 4 × 3 of type chr</caption>\n<thead>\n\t<tr><th scope=col>names</th><th scope=col>ages</th><th scope=col>gender</th></tr>\n</thead>\n<tbody>\n\t<tr><td>Jane   </td><td>8 </td><td>0</td></tr>\n\t<tr><td>Michael</td><td>6 </td><td>1</td></tr>\n\t<tr><td>Mary   </td><td>28</td><td>0</td></tr>\n\t<tr><td>George </td><td>45</td><td>1</td></tr>\n</tbody>\n</table>\n",
      "text/latex": "A matrix: 4 × 3 of type chr\n\\begin{tabular}{lll}\n names & ages & gender\\\\\n\\hline\n\t Jane    & 8  & 0\\\\\n\t Michael & 6  & 1\\\\\n\t Mary    & 28 & 0\\\\\n\t George  & 45 & 1\\\\\n\\end{tabular}\n",
      "text/markdown": "\nA matrix: 4 × 3 of type chr\n\n| names | ages | gender |\n|---|---|---|\n| Jane    | 8  | 0 |\n| Michael | 6  | 1 |\n| Mary    | 28 | 0 |\n| George  | 45 | 1 |\n\n",
      "text/plain": "     names   ages gender\n[1,] Jane    8    0     \n[2,] Michael 6    1     \n[3,] Mary    28   0     \n[4,] George  45   1     "
     },
     "metadata": {},
     "output_type": "display_data"
    },
    {
     "data": {
      "text/html": "<table class=\"dataframe\">\n<caption>A matrix: 4 × 4 of type chr</caption>\n<thead>\n\t<tr><th scope=col>names</th><th scope=col>ages</th><th scope=col>gender</th><th scope=col>age_sq</th></tr>\n</thead>\n<tbody>\n\t<tr><td>Jane   </td><td>8 </td><td>0</td><td>64  </td></tr>\n\t<tr><td>Michael</td><td>6 </td><td>1</td><td>36  </td></tr>\n\t<tr><td>Mary   </td><td>28</td><td>0</td><td>784 </td></tr>\n\t<tr><td>George </td><td>45</td><td>1</td><td>2025</td></tr>\n</tbody>\n</table>\n",
      "text/latex": "A matrix: 4 × 4 of type chr\n\\begin{tabular}{llll}\n names & ages & gender & age\\_sq\\\\\n\\hline\n\t Jane    & 8  & 0 & 64  \\\\\n\t Michael & 6  & 1 & 36  \\\\\n\t Mary    & 28 & 0 & 784 \\\\\n\t George  & 45 & 1 & 2025\\\\\n\\end{tabular}\n",
      "text/markdown": "\nA matrix: 4 × 4 of type chr\n\n| names | ages | gender | age_sq |\n|---|---|---|---|\n| Jane    | 8  | 0 | 64   |\n| Michael | 6  | 1 | 36   |\n| Mary    | 28 | 0 | 784  |\n| George  | 45 | 1 | 2025 |\n\n",
      "text/plain": "     names   ages gender age_sq\n[1,] Jane    8    0      64    \n[2,] Michael 6    1      36    \n[3,] Mary    28   0      784   \n[4,] George  45   1      2025  "
     },
     "metadata": {},
     "output_type": "display_data"
    }
   ],
   "source": [
    "names <- c(\"Jane\", \"Michael\", \"Mary\", \"George\")\n",
    "ages <- c(8, 6, 28, 45)\n",
    "gender <- c(0, 1, 0, 1)\n",
    "\n",
    "m <- cbind(names, ages, gender)\n",
    "m\n",
    "\n",
    "age_sq <- sapply(ages, function (x) x^2)\n",
    "m <- cbind(m, age_sq)\n",
    "\n",
    "m"
   ]
  },
  {
   "cell_type": "markdown",
   "metadata": {},
   "source": [
    "## Часть 2"
   ]
  },
  {
   "cell_type": "code",
   "execution_count": 13,
   "metadata": {},
   "outputs": [
    {
     "data": {
      "text/html": "<table class=\"dataframe\">\n<caption>A matrix: 2 × 2 of type dbl</caption>\n<tbody>\n\t<tr><td>4</td><td>0</td></tr>\n\t<tr><td>0</td><td>9</td></tr>\n</tbody>\n</table>\n",
      "text/latex": "A matrix: 2 × 2 of type dbl\n\\begin{tabular}{ll}\n\t 4 & 0\\\\\n\t 0 & 9\\\\\n\\end{tabular}\n",
      "text/markdown": "\nA matrix: 2 × 2 of type dbl\n\n| 4 | 0 |\n| 0 | 9 |\n\n",
      "text/plain": "     [,1] [,2]\n[1,] 4    0   \n[2,] 0    9   "
     },
     "metadata": {},
     "output_type": "display_data"
    },
    {
     "data": {
      "text/html": "<table class=\"dataframe\">\n<caption>A matrix: 2 × 2 of type dbl</caption>\n<thead>\n\t<tr><th></th><th scope=col>x1</th><th scope=col>x2</th></tr>\n</thead>\n<tbody>\n\t<tr><th scope=row>eq1</th><td>4</td><td>0</td></tr>\n\t<tr><th scope=row>eq2</th><td>0</td><td>9</td></tr>\n</tbody>\n</table>\n",
      "text/latex": "A matrix: 2 × 2 of type dbl\n\\begin{tabular}{r|ll}\n  & x1 & x2\\\\\n\\hline\n\teq1 & 4 & 0\\\\\n\teq2 & 0 & 9\\\\\n\\end{tabular}\n",
      "text/markdown": "\nA matrix: 2 × 2 of type dbl\n\n| <!--/--> | x1 | x2 |\n|---|---|---|\n| eq1 | 4 | 0 |\n| eq2 | 0 | 9 |\n\n",
      "text/plain": "    x1 x2\neq1 4  0 \neq2 0  9 "
     },
     "metadata": {},
     "output_type": "display_data"
    }
   ],
   "source": [
    "A <- diag(c(4, 9))\n",
    "A\n",
    "\n",
    "rownames(A) <- sapply(1:dim(A)[1], function(x) { paste0(\"eq\", as.character(x)) })\n",
    "colnames(A) <- sapply(1:dim(A)[1], function(x) { paste0(\"x\", as.character(x)) })\n",
    "A"
   ]
  },
  {
   "cell_type": "code",
   "execution_count": 14,
   "metadata": {},
   "outputs": [
    {
     "data": {
      "text/html": "<style>\n.list-inline {list-style: none; margin:0; padding: 0}\n.list-inline>li {display: inline-block}\n.list-inline>li:not(:last-child)::after {content: \"\\00b7\"; padding: 0 .5ex}\n</style>\n<ol class=list-inline><li>9</li><li>4</li></ol>\n",
      "text/latex": "\\begin{enumerate*}\n\\item 9\n\\item 4\n\\end{enumerate*}\n",
      "text/markdown": "1. 9\n2. 4\n\n\n",
      "text/plain": "[1] 9 4"
     },
     "metadata": {},
     "output_type": "display_data"
    }
   ],
   "source": [
    "values <- eigen(A, only.values=TRUE)\n",
    "values$values"
   ]
  },
  {
   "cell_type": "code",
   "execution_count": 15,
   "metadata": {},
   "outputs": [
    {
     "data": {
      "text/html": "<table class=\"dataframe\">\n<caption>A matrix: 2 × 2 of type dbl</caption>\n<thead>\n\t<tr><th></th><th scope=col>x1</th><th scope=col>x2</th></tr>\n</thead>\n<tbody>\n\t<tr><th scope=row>eq1</th><td>-3</td><td> 0</td></tr>\n\t<tr><th scope=row>eq2</th><td> 0</td><td>-8</td></tr>\n</tbody>\n</table>\n",
      "text/latex": "A matrix: 2 × 2 of type dbl\n\\begin{tabular}{r|ll}\n  & x1 & x2\\\\\n\\hline\n\teq1 & -3 &  0\\\\\n\teq2 &  0 & -8\\\\\n\\end{tabular}\n",
      "text/markdown": "\nA matrix: 2 × 2 of type dbl\n\n| <!--/--> | x1 | x2 |\n|---|---|---|\n| eq1 | -3 |  0 |\n| eq2 |  0 | -8 |\n\n",
      "text/plain": "    x1 x2\neq1 -3  0\neq2  0 -8"
     },
     "metadata": {},
     "output_type": "display_data"
    }
   ],
   "source": [
    "B <- diag(c(1, 1)) - A\n",
    "B"
   ]
  },
  {
   "cell_type": "code",
   "execution_count": 17,
   "metadata": {},
   "outputs": [],
   "source": [
    "f <- c(4, 2)\n",
    "u <- c(0.2, -0.3)"
   ]
  },
  {
   "cell_type": "code",
   "execution_count": 18,
   "metadata": {},
   "outputs": [
    {
     "data": {
      "text/html": "<table class=\"dataframe\">\n<caption>A matrix: 2 × 1 of type dbl</caption>\n<tbody>\n\t<tr><th scope=row>x1</th><td>1.0000000</td></tr>\n\t<tr><th scope=row>x2</th><td>0.2222222</td></tr>\n</tbody>\n</table>\n",
      "text/latex": "A matrix: 2 × 1 of type dbl\n\\begin{tabular}{r|l}\n\tx1 & 1.0000000\\\\\n\tx2 & 0.2222222\\\\\n\\end{tabular}\n",
      "text/markdown": "\nA matrix: 2 × 1 of type dbl\n\n| x1 | 1.0000000 |\n| x2 | 0.2222222 |\n\n",
      "text/plain": "   [,1]     \nx1 1.0000000\nx2 0.2222222"
     },
     "metadata": {},
     "output_type": "display_data"
    }
   ],
   "source": [
    "u_result <- solve(A) %*% f\n",
    "u_result"
   ]
  },
  {
   "cell_type": "code",
   "execution_count": 20,
   "metadata": {},
   "outputs": [
    {
     "data": {
      "text/html": "<table class=\"dataframe\">\n<caption>A matrix: 7 × 2 of type dbl</caption>\n<tbody>\n\t<tr><td>    9</td><td>      4</td></tr>\n\t<tr><td>  -23</td><td>    -30</td></tr>\n\t<tr><td>   73</td><td>    242</td></tr>\n\t<tr><td> -215</td><td>  -1934</td></tr>\n\t<tr><td>  649</td><td>  15474</td></tr>\n\t<tr><td>-1943</td><td>-123790</td></tr>\n\t<tr><td> 5833</td><td> 990322</td></tr>\n</tbody>\n</table>\n",
      "text/latex": "A matrix: 7 × 2 of type dbl\n\\begin{tabular}{ll}\n\t     9 &       4\\\\\n\t   -23 &     -30\\\\\n\t    73 &     242\\\\\n\t  -215 &   -1934\\\\\n\t   649 &   15474\\\\\n\t -1943 & -123790\\\\\n\t  5833 &  990322\\\\\n\\end{tabular}\n",
      "text/markdown": "\nA matrix: 7 × 2 of type dbl\n\n|     9 |       4 |\n|   -23 |     -30 |\n|    73 |     242 |\n|  -215 |   -1934 |\n|   649 |   15474 |\n| -1943 | -123790 |\n|  5833 |  990322 |\n\n",
      "text/plain": "     [,1]  [,2]   \n[1,]     9       4\n[2,]   -23     -30\n[3,]    73     242\n[4,]  -215   -1934\n[5,]   649   15474\n[6,] -1943 -123790\n[7,]  5833  990322"
     },
     "metadata": {},
     "output_type": "display_data"
    }
   ],
   "source": [
    "U <- matrix(0, 7, 2)\n",
    "\n",
    "U[1,] <- values$values\n",
    "\n",
    "for (i in 2:7) {\n",
    "    U[i,] <- B %*% U[i - 1,] + f\n",
    "}\n",
    "\n",
    "U"
   ]
  },
  {
   "cell_type": "code",
   "execution_count": 22,
   "metadata": {},
   "outputs": [
    {
     "data": {
      "text/html": "<table class=\"dataframe\">\n<caption>A matrix: 2 × 1 of type dbl</caption>\n<tbody>\n\t<tr><th scope=row>x1</th><td>  -5832.0</td></tr>\n\t<tr><th scope=row>x2</th><td>-990321.8</td></tr>\n</tbody>\n</table>\n",
      "text/latex": "A matrix: 2 × 1 of type dbl\n\\begin{tabular}{r|l}\n\tx1 &   -5832.0\\\\\n\tx2 & -990321.8\\\\\n\\end{tabular}\n",
      "text/markdown": "\nA matrix: 2 × 1 of type dbl\n\n| x1 |   -5832.0 |\n| x2 | -990321.8 |\n\n",
      "text/plain": "   [,1]     \nx1   -5832.0\nx2 -990321.8"
     },
     "metadata": {},
     "output_type": "display_data"
    }
   ],
   "source": [
    "u_result - U[dim(U)[1],]"
   ]
  },
  {
   "cell_type": "code",
   "execution_count": 23,
   "metadata": {},
   "outputs": [
    {
     "data": {
      "text/html": "<style>\n.list-inline {list-style: none; margin:0; padding: 0}\n.list-inline>li {display: inline-block}\n.list-inline>li:not(:last-child)::after {content: \"\\00b7\"; padding: 0 .5ex}\n</style>\n<ol class=list-inline><li>0.444444444444444</li><li>0.222222222222222</li></ol>\n",
      "text/latex": "\\begin{enumerate*}\n\\item 0.444444444444444\n\\item 0.222222222222222\n\\end{enumerate*}\n",
      "text/markdown": "1. 0.444444444444444\n2. 0.222222222222222\n\n\n",
      "text/plain": "[1] 0.4444444 0.2222222"
     },
     "metadata": {},
     "output_type": "display_data"
    },
    {
     "data": {
      "text/html": "<table class=\"dataframe\">\n<caption>A matrix: 2 × 2 of type dbl</caption>\n<thead>\n\t<tr><th></th><th scope=col>x1</th><th scope=col>x2</th></tr>\n</thead>\n<tbody>\n\t<tr><th scope=row>eq1</th><td>0.4444444</td><td>0</td></tr>\n\t<tr><th scope=row>eq2</th><td>0.0000000</td><td>1</td></tr>\n</tbody>\n</table>\n",
      "text/latex": "A matrix: 2 × 2 of type dbl\n\\begin{tabular}{r|ll}\n  & x1 & x2\\\\\n\\hline\n\teq1 & 0.4444444 & 0\\\\\n\teq2 & 0.0000000 & 1\\\\\n\\end{tabular}\n",
      "text/markdown": "\nA matrix: 2 × 2 of type dbl\n\n| <!--/--> | x1 | x2 |\n|---|---|---|\n| eq1 | 0.4444444 | 0 |\n| eq2 | 0.0000000 | 1 |\n\n",
      "text/plain": "    x1        x2\neq1 0.4444444 0 \neq2 0.0000000 1 "
     },
     "metadata": {},
     "output_type": "display_data"
    }
   ],
   "source": [
    "f <- f / max(A)\n",
    "f\n",
    "A <- A / max(A)\n",
    "A"
   ]
  },
  {
   "cell_type": "code",
   "execution_count": 24,
   "metadata": {},
   "outputs": [
    {
     "data": {
      "text/html": "<table class=\"dataframe\">\n<caption>A matrix: 2 × 1 of type dbl</caption>\n<tbody>\n\t<tr><th scope=row>x1</th><td>0</td></tr>\n\t<tr><th scope=row>x2</th><td>0</td></tr>\n</tbody>\n</table>\n",
      "text/latex": "A matrix: 2 × 1 of type dbl\n\\begin{tabular}{r|l}\n\tx1 & 0\\\\\n\tx2 & 0\\\\\n\\end{tabular}\n",
      "text/markdown": "\nA matrix: 2 × 1 of type dbl\n\n| x1 | 0 |\n| x2 | 0 |\n\n",
      "text/plain": "   [,1]\nx1 0   \nx2 0   "
     },
     "metadata": {},
     "output_type": "display_data"
    }
   ],
   "source": [
    "values <- eigen(A, only.values=TRUE)\n",
    "\n",
    "B <- diag(c(1, 1)) - A\n",
    "\n",
    "u_result <- solve(A) %*% f\n",
    "\n",
    "U <- matrix(0, 7, 2)\n",
    "U[1,] <- values$values\n",
    "\n",
    "for (i in 2:7) {\n",
    "    U[i,] <- B %*% U[i - 1,] + f\n",
    "}\n",
    "\n",
    "u_result - U[dim(U)[1],]"
   ]
  },
  {
   "cell_type": "markdown",
   "metadata": {},
   "source": [
    "# Часть 3"
   ]
  },
  {
   "cell_type": "code",
   "execution_count": 26,
   "metadata": {},
   "outputs": [],
   "source": [
    "step <- 1\n",
    "dekart_begin <- -5\n",
    "dekart_end <- 5\n",
    "\n",
    "x <- seq(from=dekart_begin, to=dekart_end, by=step)\n",
    "y <- x\n",
    "\n",
    "surface_matrix <- outer(X = x, \n",
    "                        Y = y, \n",
    "                        FUN = function(x,y) Re(exp(-1i * 0.5  * x * y)))\n",
    "dimnames(surface_matrix) <- list(x, y)"
   ]
  },
  {
   "cell_type": "code",
   "execution_count": 27,
   "metadata": {},
   "outputs": [],
   "source": [
    "describe <- function(matr, filename=\"data/practice2/summary.txt\", ...) {\n",
    "    write(\"number of matrix elements:\", filename)\n",
    "    write(dim(matr)[1] * dim(matr)[2], filename, append=TRUE)\n",
    "    write(\"\\n\", filename, append=TRUE)\n",
    "    \n",
    "    write(\"number of rows:\", filename, append=TRUE)\n",
    "    write(dim(matr)[1], filename, append=TRUE)\n",
    "    write(\"\\n\", filename, append=TRUE)\n",
    "    \n",
    "    write(\"number of cols:\", filename, append=TRUE)\n",
    "    write(dim(matr)[2], filename, append=TRUE)\n",
    "    write(\"\\n\", filename, append=TRUE)\n",
    "    \n",
    "    write(\"sum of main diag elements:\", filename, append=TRUE)\n",
    "    write(sum(diag(matr)), filename, append=TRUE)\n",
    "    write(\"\\n\", filename, append=TRUE)\n",
    "    \n",
    "    write(\"sum of middle row elements:\", filename, append=TRUE)\n",
    "    write(sum(matr[ceiling(dim(matr)[1] / 2), ]), filename, append=TRUE)\n",
    "    write(\"\\n\", filename, append=TRUE)\n",
    "\n",
    "    write(\"sum of middle column elements:\", filename, append=TRUE)\n",
    "    write(sum(matr[ceiling(dim(matr)[2] / 2), ]), filename, append=TRUE)\n",
    "    write(\"\\n\", filename, append=TRUE)\n",
    "    \n",
    "    write(\"row sums:\", filename, append=TRUE)\n",
    "    sums <- sapply(1:dim(matr)[1], function(x) return(sum(matr[x, ])))\n",
    "    write(sums, filename, append=TRUE)\n",
    "    write(\"\\n\", filename, append=TRUE)\n",
    "                 \n",
    "    write(\"col sums:\", filename, append=TRUE)\n",
    "    sums <- sapply(1:dim(matr)[1], function(x) return(sum(matr[x, ])))\n",
    "    write(sums, filename, append=TRUE)\n",
    "    write(\"\\n\", filename, append=TRUE)\n",
    "}\n",
    "\n",
    "describe(surface_matrix)"
   ]
  },
  {
   "cell_type": "code",
   "execution_count": 28,
   "metadata": {},
   "outputs": [],
   "source": [
    "describe <- function(matr, filename=\"data/practice2/summary1.txt\", ...) {\n",
    "    write(\"number of matrix elements:\", filename)    \n",
    "    write(dim(matr)[1] * dim(matr)[2], filename, append=TRUE)\n",
    "    write(\"\\n\", filename, append=TRUE)\n",
    "    \n",
    "    write(\"number of rows:\", filename, append=TRUE)\n",
    "    write(dim(matr)[1], filename, append=TRUE)\n",
    "    write(\"\\n\", filename, append=TRUE)\n",
    "    \n",
    "    write(\"number of cols:\", filename, append=TRUE)\n",
    "    write(dim(matr)[2], filename, append=TRUE)\n",
    "    write(\"\\n\", filename, append=TRUE)\n",
    "    \n",
    "    write(\"sum of main diag elements:\", filename, append=TRUE)\n",
    "    write(sum(diag(matr)), filename, append=TRUE)\n",
    "    write(\"\\n\", filename, append=TRUE)\n",
    "    \n",
    "    write(\"row sums:\", filename, append=TRUE)\n",
    "    sums <- sapply(1:dim(matr)[1], function(x) return(sum(matr[x, ])))\n",
    "    write(sums, filename, append=TRUE)\n",
    "    write(\"\\n\", filename, append=TRUE)\n",
    "                 \n",
    "    write(\"col sums:\", filename, append=TRUE)\n",
    "    sums <- sapply(1:dim(matr)[1], function(x) return(sum(matr[x, ])))\n",
    "    write(sums, filename, append=TRUE)\n",
    "    write(\"\\n\", filename, append=TRUE)\n",
    "}\n",
    "\n",
    "x <- seq(from=dekart_begin, to=dekart_end, by=step)\n",
    "y <- x\n",
    "\n",
    "surface_matrix <- outer(X = x, \n",
    "                        Y = y, \n",
    "                        FUN = function(x,y) Re(exp(-1i * 0.5  * x * y)))\n",
    "dimnames(surface_matrix) <- list(x, y)\n",
    "\n",
    "describe(surface_matrix, \"data/practice2/summary2.txt\", FALSE)"
   ]
  },
  {
   "cell_type": "code",
   "execution_count": 30,
   "metadata": {},
   "outputs": [],
   "source": [
    "file <- read.table(\"data/practice2/input.txt\")\n",
    "\n",
    "step <- as.integer(file[1, ])\n",
    "dekart_begin <- as.integer(file[2, ])\n",
    "dekart_end <- as.integer(file[3, ])\n",
    "\n",
    "x <- seq(from=dekart_begin, to=dekart_end, by=step)\n",
    "\n",
    "step <- as.integer(file[4, ])\n",
    "dekart_begin <- as.integer(file[5, ])\n",
    "dekart_end <- as.integer(file[6, ])\n",
    "\n",
    "y <- seq(from=dekart_begin, to=dekart_end, by=step)\n",
    "\n",
    "surface_matrix <- outer(X = x, \n",
    "                        Y = y, \n",
    "                        FUN = function(x,y) Re(exp(-1i * 0.5  * x * y)))\n",
    "dimnames(surface_matrix) <- list(x, y)\n",
    "\n",
    "describe(surface_matrix, \"data/practice2/summary3.txt\")"
   ]
  },
  {
   "cell_type": "markdown",
   "metadata": {},
   "source": [
    "## Часть 4"
   ]
  },
  {
   "cell_type": "code",
   "execution_count": 31,
   "metadata": {},
   "outputs": [],
   "source": [
    "cars_matrix <- as.matrix(cars)"
   ]
  },
  {
   "cell_type": "code",
   "execution_count": 32,
   "metadata": {},
   "outputs": [],
   "source": [
    "cars_speed <- cbind(rep(c(1), length(cars_matrix[, 1])), cars_matrix[, 1])"
   ]
  },
  {
   "cell_type": "code",
   "execution_count": 33,
   "metadata": {},
   "outputs": [],
   "source": [
    "cars_dist <- cars_matrix[, 2]"
   ]
  },
  {
   "cell_type": "code",
   "execution_count": 34,
   "metadata": {},
   "outputs": [],
   "source": [
    "alpha <- solve(t(cars_speed) %*% cars_speed) %*% t(cars_speed) %*% cars_dist"
   ]
  },
  {
   "cell_type": "code",
   "execution_count": 35,
   "metadata": {},
   "outputs": [
    {
     "data": {
      "text/html": "'double'",
      "text/latex": "'double'",
      "text/markdown": "'double'",
      "text/plain": "[1] \"double\""
     },
     "metadata": {},
     "output_type": "display_data"
    }
   ],
   "source": [
    "typeof(alpha)\n",
    "alpha <- as.vector(alpha)"
   ]
  },
  {
   "cell_type": "code",
   "execution_count": 37,
   "metadata": {},
   "outputs": [
    {
     "name": "stdout",
     "output_type": "stream",
     "text": [
      "alpha_c =  -17.57909 \n",
      "alpha_x =  3.932409"
     ]
    }
   ],
   "source": [
    "alpha_c = alpha[1]\n",
    "alpha_x = alpha[2]\n",
    "\n",
    "cat(\"alpha_c = \", alpha_c, \"\\nalpha_x = \", alpha_x)"
   ]
  },
  {
   "cell_type": "code",
   "execution_count": 38,
   "metadata": {},
   "outputs": [],
   "source": [
    "cars_speed_lm <- cars_matrix[, 1]"
   ]
  },
  {
   "cell_type": "code",
   "execution_count": 39,
   "metadata": {},
   "outputs": [],
   "source": [
    "cars_dist_lm <- alpha_c + cars_speed_lm * alpha_x"
   ]
  },
  {
   "cell_type": "code",
   "execution_count": 40,
   "metadata": {},
   "outputs": [],
   "source": [
    "dist_residuals <- cars_dist_lm - cars_dist"
   ]
  },
  {
   "cell_type": "code",
   "execution_count": 41,
   "metadata": {},
   "outputs": [
    {
     "name": "stdout",
     "output_type": "stream",
     "text": [
      "Среднее отклонение -  -1.069367e-13\n",
      "Стандартное отклонение -  15.22184"
     ]
    }
   ],
   "source": [
    "cat(\"Среднее отклонение - \", mean(dist_residuals))\n",
    "cat(\"\\n\")\n",
    "cat(\"Стандартное отклонение - \", sd(dist_residuals))"
   ]
  },
  {
   "cell_type": "code",
   "execution_count": 42,
   "metadata": {},
   "outputs": [
    {
     "data": {
      "text/html": "<style>\n.list-inline {list-style: none; margin:0; padding: 0}\n.list-inline>li {display: inline-block}\n.list-inline>li:not(:last-child)::after {content: \"\\00b7\"; padding: 0 .5ex}\n</style>\n<ol class=list-inline><li>-1.84945985401473</li><li>-1.84945985401473</li><li>9.94776642335754</li><li>9.94776642335754</li><li>13.8801751824816</li><li>17.8125839416057</li><li>21.7449927007298</li><li>21.7449927007298</li><li>21.7449927007298</li><li>25.6774014598539</li><li>25.6774014598539</li><li>29.609810218978</li><li>29.609810218978</li><li>29.609810218978</li><li>29.609810218978</li><li>33.5422189781021</li><li>33.5422189781021</li><li>33.5422189781021</li><li>33.5422189781021</li><li>37.4746277372262</li><li>37.4746277372262</li><li>37.4746277372262</li><li>37.4746277372262</li><li>41.4070364963503</li><li>41.4070364963503</li><li>41.4070364963503</li><li>45.3394452554743</li><li>45.3394452554743</li><li>49.2718540145984</li><li>49.2718540145984</li><li>49.2718540145984</li><li>53.2042627737225</li><li>53.2042627737225</li><li>53.2042627737225</li><li>53.2042627737225</li><li>57.1366715328466</li><li>57.1366715328466</li><li>57.1366715328466</li><li>61.0690802919707</li><li>61.0690802919707</li><li>61.0690802919707</li><li>61.0690802919707</li><li>61.0690802919707</li><li>68.9338978102189</li><li>72.866306569343</li><li>76.7987153284671</li><li>76.7987153284671</li><li>76.7987153284671</li><li>76.7987153284671</li><li>80.7311240875912</li></ol>\n",
      "text/latex": "\\begin{enumerate*}\n\\item -1.84945985401473\n\\item -1.84945985401473\n\\item 9.94776642335754\n\\item 9.94776642335754\n\\item 13.8801751824816\n\\item 17.8125839416057\n\\item 21.7449927007298\n\\item 21.7449927007298\n\\item 21.7449927007298\n\\item 25.6774014598539\n\\item 25.6774014598539\n\\item 29.609810218978\n\\item 29.609810218978\n\\item 29.609810218978\n\\item 29.609810218978\n\\item 33.5422189781021\n\\item 33.5422189781021\n\\item 33.5422189781021\n\\item 33.5422189781021\n\\item 37.4746277372262\n\\item 37.4746277372262\n\\item 37.4746277372262\n\\item 37.4746277372262\n\\item 41.4070364963503\n\\item 41.4070364963503\n\\item 41.4070364963503\n\\item 45.3394452554743\n\\item 45.3394452554743\n\\item 49.2718540145984\n\\item 49.2718540145984\n\\item 49.2718540145984\n\\item 53.2042627737225\n\\item 53.2042627737225\n\\item 53.2042627737225\n\\item 53.2042627737225\n\\item 57.1366715328466\n\\item 57.1366715328466\n\\item 57.1366715328466\n\\item 61.0690802919707\n\\item 61.0690802919707\n\\item 61.0690802919707\n\\item 61.0690802919707\n\\item 61.0690802919707\n\\item 68.9338978102189\n\\item 72.866306569343\n\\item 76.7987153284671\n\\item 76.7987153284671\n\\item 76.7987153284671\n\\item 76.7987153284671\n\\item 80.7311240875912\n\\end{enumerate*}\n",
      "text/markdown": "1. -1.84945985401473\n2. -1.84945985401473\n3. 9.94776642335754\n4. 9.94776642335754\n5. 13.8801751824816\n6. 17.8125839416057\n7. 21.7449927007298\n8. 21.7449927007298\n9. 21.7449927007298\n10. 25.6774014598539\n11. 25.6774014598539\n12. 29.609810218978\n13. 29.609810218978\n14. 29.609810218978\n15. 29.609810218978\n16. 33.5422189781021\n17. 33.5422189781021\n18. 33.5422189781021\n19. 33.5422189781021\n20. 37.4746277372262\n21. 37.4746277372262\n22. 37.4746277372262\n23. 37.4746277372262\n24. 41.4070364963503\n25. 41.4070364963503\n26. 41.4070364963503\n27. 45.3394452554743\n28. 45.3394452554743\n29. 49.2718540145984\n30. 49.2718540145984\n31. 49.2718540145984\n32. 53.2042627737225\n33. 53.2042627737225\n34. 53.2042627737225\n35. 53.2042627737225\n36. 57.1366715328466\n37. 57.1366715328466\n38. 57.1366715328466\n39. 61.0690802919707\n40. 61.0690802919707\n41. 61.0690802919707\n42. 61.0690802919707\n43. 61.0690802919707\n44. 68.9338978102189\n45. 72.866306569343\n46. 76.7987153284671\n47. 76.7987153284671\n48. 76.7987153284671\n49. 76.7987153284671\n50. 80.7311240875912\n\n\n",
      "text/plain": " [1] -1.849460 -1.849460  9.947766  9.947766 13.880175 17.812584 21.744993\n [8] 21.744993 21.744993 25.677401 25.677401 29.609810 29.609810 29.609810\n[15] 29.609810 33.542219 33.542219 33.542219 33.542219 37.474628 37.474628\n[22] 37.474628 37.474628 41.407036 41.407036 41.407036 45.339445 45.339445\n[29] 49.271854 49.271854 49.271854 53.204263 53.204263 53.204263 53.204263\n[36] 57.136672 57.136672 57.136672 61.069080 61.069080 61.069080 61.069080\n[43] 61.069080 68.933898 72.866307 76.798715 76.798715 76.798715 76.798715\n[50] 80.731124"
     },
     "metadata": {},
     "output_type": "display_data"
    }
   ],
   "source": [
    "cars_dist_lm"
   ]
  },
  {
   "cell_type": "code",
   "execution_count": 43,
   "metadata": {},
   "outputs": [
    {
     "data": {
      "image/png": "[encoded data removed]",
      "text/plain": "plot without title"
     },
     "metadata": {
      "image/png": {
       "height": 420,
       "width": 420
      }
     },
     "output_type": "display_data"
    }
   ],
   "source": [
    "plot(cars_matrix[, 1], cars_matrix[, 2], xlab=\"speed\", ylab=\"dist\", col=\"red\", pch=16)\n",
    "\n",
    "lines(cars_speed_lm, cars_dist_lm, col=\"blue\")\n",
    "\n",
    "legend(\"topleft\", legend=c(\"Данные о машинах\", \"Аппроксимация\"), col=c(\"red\", \"blue\"), lty = 1:2, cex=0.8, pch=c(19, -1))"
   ]
  }
 ],
 "metadata": {
  "kernelspec": {
   "display_name": "R",
   "name": "python388jvsc74a57bd0abc2fa720a0c2069e35961638e046adcc3698bd785304c894e77f65d67e7bdf9"
  },
  "language_info": {
   "codemirror_mode": "r",
   "file_extension": ".r",
   "mimetype": "text/x-r-source",
   "name": "R",
   "pygments_lexer": "r",
   "version": "4.0.5"
  },
  "orig_nbformat": 2
 },
 "nbformat": 4,
 "nbformat_minor": 2
}